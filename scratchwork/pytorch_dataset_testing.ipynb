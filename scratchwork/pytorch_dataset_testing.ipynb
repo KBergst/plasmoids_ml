{
 "cells": [
  {
   "cell_type": "code",
   "execution_count": 23,
   "id": "d2696c6a-2602-44b0-92b0-60f92334f06c",
   "metadata": {},
   "outputs": [],
   "source": [
    "import torch\n",
    "import numpy as np"
   ]
  },
  {
   "cell_type": "markdown",
   "id": "de2b8d8f-e541-4417-9e25-b9709c35fe5e",
   "metadata": {},
   "source": [
    "### One dataset with one tensor"
   ]
  },
  {
   "cell_type": "code",
   "execution_count": 24,
   "id": "3b4e96dd-6122-4ec1-9ab8-bb16cd7ddf05",
   "metadata": {},
   "outputs": [
    {
     "name": "stdout",
     "output_type": "stream",
     "text": [
      "torch.Size([4, 3])\n",
      "(tensor([4., 5., 6.]),)\n",
      "[tensor([[1., 2., 3.],\n",
      "        [4., 5., 6.]])]\n"
     ]
    }
   ],
   "source": [
    "a = np.array([[1, 2, 3],\n",
    "              [4, 5, 6],\n",
    "              [7, 8, 9],\n",
    "              [10, 11, 12]])\n",
    "a = torch.Tensor(a)\n",
    "print(a.shape)\n",
    "a_dset = torch.utils.data.TensorDataset(a)\n",
    "print(a_dset[1])\n",
    "a_dl = torch.utils.data.DataLoader(a_dset, batch_size=2)\n",
    "print(next(iter(a_dl)))"
   ]
  },
  {
   "cell_type": "markdown",
   "id": "a35da3df-3501-49ff-8baf-17b171ae3827",
   "metadata": {},
   "source": [
    "### One dataset with more than one tensor"
   ]
  },
  {
   "cell_type": "code",
   "execution_count": 25,
   "id": "7b49bd95-5e04-46ac-8523-9434741be029",
   "metadata": {},
   "outputs": [
    {
     "name": "stdout",
     "output_type": "stream",
     "text": [
      "torch.Size([4, 1])\n",
      "(tensor([4., 5., 6.]), tensor([22.]))\n",
      "tensor([[1., 2., 3.],\n",
      "        [4., 5., 6.]])\n"
     ]
    }
   ],
   "source": [
    "b = np.array([[11],\n",
    "              [22],\n",
    "              [33],\n",
    "              [44]])\n",
    "b = torch.Tensor(b)\n",
    "print(b.shape)\n",
    "ab_dset = torch.utils.data.TensorDataset(a,b)\n",
    "print(ab_dset[1])\n",
    "ab_dl = torch.utils.data.DataLoader(ab_dset, batch_size=2)\n",
    "x,y = next(iter(ab_dl))\n",
    "print(x)\n"
   ]
  },
  {
   "cell_type": "markdown",
   "id": "3bff35f4-eca1-4972-bcf1-1cf122af8422",
   "metadata": {},
   "source": [
    "### Concat dataset testing"
   ]
  },
  {
   "cell_type": "code",
   "execution_count": 26,
   "id": "2e46ebca-ed16-40ed-b20c-08c446f333d0",
   "metadata": {},
   "outputs": [
    {
     "name": "stdout",
     "output_type": "stream",
     "text": [
      "torch.Size([4, 3])\n",
      "torch.Size([4, 1])\n",
      "(tensor([16., 17., 18.]), tensor([66.]))\n"
     ]
    }
   ],
   "source": [
    "c = torch.Tensor([[13, 14, 15],\n",
    "              [16, 17, 18],\n",
    "              [19, 20, 21],\n",
    "              [22, 23, 24]])\n",
    "print(c.shape)\n",
    "d = torch.Tensor([[55],\n",
    "                  [66],\n",
    "                  [77],\n",
    "                  [88]])\n",
    "print(d.shape)\n",
    "cd_dset = torch.utils.data.TensorDataset(c,d)\n",
    "\n",
    "abcd_dset = torch.utils.data.ConcatDataset([ab_dset, cd_dset])  # tensor takes n arguments but concat takes an iterable...\n",
    "print(abcd_dset[5])\n"
   ]
  },
  {
   "cell_type": "markdown",
   "id": "2a763381-1fd5-4b55-9567-ad241f6b47f4",
   "metadata": {},
   "source": [
    "### Shuffling concat dataset using dataloader with batch = entire dataset"
   ]
  },
  {
   "cell_type": "code",
   "execution_count": 27,
   "id": "d1ba4452-91cb-4046-bc09-bdbe757c83c0",
   "metadata": {},
   "outputs": [
    {
     "name": "stdout",
     "output_type": "stream",
     "text": [
      "tensor([[44.],\n",
      "        [88.],\n",
      "        [55.],\n",
      "        [33.],\n",
      "        [77.],\n",
      "        [66.],\n",
      "        [22.],\n",
      "        [11.]])\n"
     ]
    }
   ],
   "source": [
    "abcd_len = len(abcd_dset)  # for TensorDataset is the shared first dimension\n",
    "abcd_dl = torch.utils.data.DataLoader(abcd_dset, batch_size=abcd_len, shuffle=True) \n",
    "X,y = next(iter(abcd_dl))\n",
    "print(y)"
   ]
  },
  {
   "cell_type": "code",
   "execution_count": null,
   "id": "001340e6-0571-4079-b735-a891a9e1bf9f",
   "metadata": {},
   "outputs": [],
   "source": []
  }
 ],
 "metadata": {
  "kernelspec": {
   "display_name": "Python 3 (ipykernel)",
   "language": "python",
   "name": "python3"
  },
  "language_info": {
   "codemirror_mode": {
    "name": "ipython",
    "version": 3
   },
   "file_extension": ".py",
   "mimetype": "text/x-python",
   "name": "python",
   "nbconvert_exporter": "python",
   "pygments_lexer": "ipython3",
   "version": "3.10.9"
  }
 },
 "nbformat": 4,
 "nbformat_minor": 5
}
