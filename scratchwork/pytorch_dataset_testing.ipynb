{
 "cells": [
  {
   "cell_type": "code",
   "execution_count": 3,
   "id": "d2696c6a-2602-44b0-92b0-60f92334f06c",
   "metadata": {},
   "outputs": [],
   "source": [
    "import torch\n",
    "import numpy as np"
   ]
  },
  {
   "cell_type": "markdown",
   "id": "de2b8d8f-e541-4417-9e25-b9709c35fe5e",
   "metadata": {},
   "source": [
    "### One dataset with one tensor"
   ]
  },
  {
   "cell_type": "code",
   "execution_count": 11,
   "id": "3b4e96dd-6122-4ec1-9ab8-bb16cd7ddf05",
   "metadata": {},
   "outputs": [
    {
     "name": "stdout",
     "output_type": "stream",
     "text": [
      "torch.Size([4, 3])\n",
      "(tensor([4., 5., 6.]),)\n",
      "[tensor([[1., 2., 3.],\n",
      "        [4., 5., 6.]])]\n"
     ]
    }
   ],
   "source": [
    "a = np.array([[1, 2, 3],\n",
    "              [4, 5, 6],\n",
    "              [7, 8, 9],\n",
    "              [10, 11, 12]])\n",
    "a = torch.Tensor(a)\n",
    "print(a.shape)\n",
    "a_dset = torch.utils.data.TensorDataset(a)\n",
    "print(a_dset[1])\n",
    "a_dl = torch.utils.data.DataLoader(a_dset, batch_size=2)\n",
    "print(next(iter(a_dl)))"
   ]
  },
  {
   "cell_type": "markdown",
   "id": "a35da3df-3501-49ff-8baf-17b171ae3827",
   "metadata": {},
   "source": [
    "### One dataset with more than one tensor"
   ]
  },
  {
   "cell_type": "code",
   "execution_count": 16,
   "id": "7b49bd95-5e04-46ac-8523-9434741be029",
   "metadata": {},
   "outputs": [
    {
     "name": "stdout",
     "output_type": "stream",
     "text": [
      "torch.Size([4, 1])\n",
      "(tensor([4., 5., 6.]), tensor([22.]))\n",
      "[tensor([[1., 2., 3.],\n",
      "        [4., 5., 6.]]), tensor([[11.],\n",
      "        [22.]])]\n"
     ]
    }
   ],
   "source": [
    "b = np.array([[11],\n",
    "              [22],\n",
    "              [33],\n",
    "              [44]])\n",
    "b = torch.Tensor(b)\n",
    "print(b.shape)\n",
    "ab_dset = torch.utils.data.TensorDataset(a,b)\n",
    "print(ab_dset[1])\n",
    "ab_dl = torch.utils.data.DataLoader(ab_dset, batch_size=2)\n",
    "print(next(iter(ab_dl)))"
   ]
  },
  {
   "cell_type": "code",
   "execution_count": null,
   "id": "bec8703e-6976-499d-aea8-c08d259bbfe5",
   "metadata": {},
   "outputs": [],
   "source": []
  }
 ],
 "metadata": {
  "kernelspec": {
   "display_name": "Python 3 (ipykernel)",
   "language": "python",
   "name": "python3"
  },
  "language_info": {
   "codemirror_mode": {
    "name": "ipython",
    "version": 3
   },
   "file_extension": ".py",
   "mimetype": "text/x-python",
   "name": "python",
   "nbconvert_exporter": "python",
   "pygments_lexer": "ipython3",
   "version": "3.10.9"
  }
 },
 "nbformat": 4,
 "nbformat_minor": 5
}
