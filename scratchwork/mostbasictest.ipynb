{
 "cells": [
  {
   "cell_type": "code",
   "execution_count": 1,
   "id": "57aa0c17-d954-4339-bdb6-2269d3d6b5ba",
   "metadata": {
    "execution": {
     "iopub.execute_input": "2023-07-03T13:36:57.080370Z",
     "iopub.status.busy": "2023-07-03T13:36:57.079798Z",
     "iopub.status.idle": "2023-07-03T13:36:57.200228Z",
     "shell.execute_reply": "2023-07-03T13:36:57.199196Z"
    }
   },
   "outputs": [
    {
     "name": "stdout",
     "output_type": "stream",
     "text": [
      "[1 2 3 4]\n",
      "This is output\n"
     ]
    }
   ],
   "source": [
    "import numpy as np\n",
    "a = np.array([1,2,3,4])\n",
    "print(a)\n",
    "print(\"This is output\")"
   ]
  }
 ],
 "metadata": {
  "kernelspec": {
   "display_name": "Python 3 (ipykernel)",
   "language": "python",
   "name": "python3"
  },
  "language_info": {
   "codemirror_mode": {
    "name": "ipython",
    "version": 3
   },
   "file_extension": ".py",
   "mimetype": "text/x-python",
   "name": "python",
   "nbconvert_exporter": "python",
   "pygments_lexer": "ipython3",
   "version": "3.10.9"
  }
 },
 "nbformat": 4,
 "nbformat_minor": 5
}
