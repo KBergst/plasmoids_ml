{
 "cells": [
  {
   "cell_type": "code",
   "execution_count": 128,
   "id": "signal-minute",
   "metadata": {},
   "outputs": [],
   "source": [
    "import sys\n",
    "import h5py\n",
    "import numpy as np\n",
    "import tensorflow as tf\n",
    "import tensorflow_addons as tfa\n",
    "from tensorflow import keras\n",
    "from sklearn.model_selection import train_test_split\n",
    "from sklearn.metrics import confusion_matrix, ConfusionMatrixDisplay\n",
    "from sklearn.utils import shuffle\n",
    "import matplotlib\n",
    "# matplotlib.use('svg')\n",
    "import matplotlib.pyplot as plt\n",
    "# get functions from other notebooks\n",
    "%run /tigress/kendrab/analysis-notebooks/loss_fns.ipynb\n",
    "%run /tigress/kendrab/analysis-notebooks/metrics.ipynb\n",
    "%run /tigress/kendrab/analysis-notebooks/preproc_utils.ipynb\n",
    "%run /tigress/kendrab/analysis-notebooks/eval_utils.ipynb"
   ]
  },
  {
   "cell_type": "markdown",
   "id": "final-peter",
   "metadata": {},
   "source": [
    "### Load data to try it out"
   ]
  },
  {
   "cell_type": "code",
   "execution_count": 129,
   "id": "deluxe-boost",
   "metadata": {},
   "outputs": [],
   "source": [
    "padding_length = 10  # amount of data on each side of each segment for additional info\n",
    "stride = 10  # size (and therefore spacing) of each segment\n",
    "input_length = stride + 2*padding_length\n",
    "\n",
    "readpaths = ['/tigress/kendrab/06022023/'+\"100samples_idx50_bxbybzjyvz.hdf5\"]\n",
    "\n",
    "idx_list = []  # to keep track of which file what sample came from\n",
    "s_list = []\n",
    "bx_list = []\n",
    "by_list = []\n",
    "bz_list = []\n",
    "jy_list = []\n",
    "vz_list = []\n",
    "x0_list = []\n",
    "x1_list = []\n",
    "topo_list = []\n",
    "\n",
    "for idx, filepath in enumerate(readpaths):\n",
    "    with h5py.File(filepath, 'r') as file:\n",
    "        idx_list += [np.array([idx for i in bx]) for bx in file['bx_smooth'][:]]  # check this structure!!!\n",
    "        s_list += list(file['s'][:])\n",
    "        bx_list += list(file['bx_smooth'][:])\n",
    "        by_list += list(file['by'][:])\n",
    "        bz_list += list(file['bz_smooth'][:])\n",
    "        jy_list += list(file['jy'][:])\n",
    "        vz_list += list(file['vz'][:]) \n",
    "        x0_list += list(file['x0'][:])\n",
    "        x1_list += list(file['x1'][:])\n",
    "        topo_list_tmp = list(file['topo'][:])\n",
    "        for i in range(len(topo_list_tmp)):  # I tried to vectorize this but I didn't get it to work\n",
    "            topo_list_tmp[i] = topo_list_tmp[i] % 2  # cat 0,2 are not plasmoids, cat 1,3 are\n",
    "            topo_list_tmp[i] = keras.utils.to_categorical(topo_list_tmp[i], num_classes=2)\n",
    "        topo_list += topo_list_tmp\n",
    "\n",
    "# chunk into sliding windows (put fn into preproc_utils)\n",
    "# NOTE TOPO HAS DIFFERENT SEGMENT LENGTHS THAN THE INPUTS (stride vs. 2*padding+stride)\n",
    "idx = batch_unpadded_subsects(idx_list, padding_length, stride)\n",
    "s = batch_subsects(s_list, input_length, stride).reshape(-1, input_length, 1)\n",
    "bx = batch_subsects(bx_list, input_length, stride).reshape(-1, input_length, 1)\n",
    "by = batch_subsects(by_list, input_length, stride).reshape(-1, input_length, 1)\n",
    "bz = batch_subsects(bz_list, input_length, stride).reshape(-1, input_length, 1)\n",
    "jy = batch_subsects(jy_list, input_length, stride).reshape(-1, input_length, 1)\n",
    "vz = batch_subsects(vz_list, input_length, stride).reshape(-1, input_length, 1)\n",
    "x0 = batch_unpadded_subsects(x0_list, padding_length, stride)\n",
    "x1 = batch_unpadded_subsects(x1_list, padding_length, stride)\n",
    "topo = batch_unpadded_subsects(topo_list, padding_length, stride)"
   ]
  },
  {
   "cell_type": "markdown",
   "id": "hispanic-disability",
   "metadata": {},
   "source": [
    "### Load the pretrained model"
   ]
  },
  {
   "cell_type": "code",
   "execution_count": 130,
   "id": "found-conducting",
   "metadata": {},
   "outputs": [],
   "source": [
    "loss_fn = keras.losses.CategoricalCrossentropy()\n",
    "loss = gen_loss_per_pt(loss_fn=loss_fn)\n",
    "model = keras.models.load_model(\"/tigress/kendrab/analysis-notebooks/model_outs/29-03-23/samples/delta135716_modelfile.h5\", custom_objects={'loss_per_pt':\n",
    "loss})"
   ]
  },
  {
   "cell_type": "markdown",
   "id": "fiscal-forward",
   "metadata": {},
   "source": [
    "### See how it do"
   ]
  },
  {
   "cell_type": "code",
   "execution_count": 131,
   "id": "capable-depth",
   "metadata": {},
   "outputs": [
    {
     "name": "stdout",
     "output_type": "stream",
     "text": [
      "Testing performance\n",
      "cat_breakdown\t\t[47587, 993]\n",
      "[1.0, 1.0]\n",
      "[0.999995, 0.5050631]\n",
      "Category 0 had recall 1.0\n",
      "Category 1 had recall 0.0010070493444800377\n"
     ]
    }
   ],
   "source": [
    "print(\"Testing performance\")\n",
    "test_topo_pred = model(inputs={'bx': bx, 'by': by, 'bz': bz, 'jy': jy, 'vz': vz}, training=False)\n",
    "test_1d = np.argmax(topo.reshape(-1,2), axis=1) # for confusion matrix\n",
    "test_1d_pred = np.argmax(test_topo_pred.numpy().reshape(-1,2), axis=1)  \n",
    "num_per_cat = [np.sum(topo[...,i] == 1) for i in range(2)]\n",
    "print(f\"cat_breakdown\\t\\t{num_per_cat}\")\n",
    "print([np.max(topo[:,:,i]) for i in range(2)])\n",
    "print([np.max(test_topo_pred[:,:,i]) for i in range(2)])\n",
    "for i in range(2):\n",
    "    acc = gen_metric_per_cat(cat_idx=i)(tf.convert_to_tensor(topo), test_topo_pred)\n",
    "    print(f\"Category {i} had recall {acc}\")    \n"
   ]
  },
  {
   "cell_type": "code",
   "execution_count": 132,
   "id": "absolute-passenger",
   "metadata": {},
   "outputs": [
    {
     "data": {
      "image/png": "[encoded data removed]",
      "text/plain": [
       "<Figure size 576x576 with 6 Axes>"
      ]
     },
     "metadata": {
      "needs_background": "light"
     },
     "output_type": "display_data"
    }
   ],
   "source": [
    "%matplotlib inline\n",
    "fig, ax = plt.subplots(3, figsize=(8,8))\n",
    "ax[0].set(title=\"Testing Confusion, normalized true\")\n",
    "ax[1].set(title=\"Testing Confusion, normalized pred\")\n",
    "ax[2].set(title=\"Testing Confusion, non-normalized\")\n",
    "cf_test_t = ConfusionMatrixDisplay(confusion_matrix(test_1d, test_1d_pred, normalize='true'))\n",
    "cf_test_p = ConfusionMatrixDisplay(confusion_matrix(test_1d, test_1d_pred, normalize='pred'))\n",
    "cf_test = ConfusionMatrixDisplay(confusion_matrix(test_1d, test_1d_pred))\n",
    "\n",
    "cf_test_t.plot(ax=ax[0])\n",
    "cf_test_p.plot(ax=ax[1])\n",
    "cf_test.plot(ax=ax[2])\n",
    "\n",
    "fig.tight_layout()\n",
    "plt.show()"
   ]
  },
  {
   "cell_type": "code",
   "execution_count": null,
   "id": "urban-traveler",
   "metadata": {},
   "outputs": [],
   "source": []
  }
 ],
 "metadata": {
  "kernelspec": {
   "display_name": "Python 3",
   "language": "python",
   "name": "python3"
  },
  "language_info": {
   "codemirror_mode": {
    "name": "ipython",
    "version": 3
   },
   "file_extension": ".py",
   "mimetype": "text/x-python",
   "name": "python",
   "nbconvert_exporter": "python",
   "pygments_lexer": "ipython3",
   "version": "3.7.9"
  }
 },
 "nbformat": 4,
 "nbformat_minor": 5
}
