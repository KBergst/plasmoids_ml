{
 "cells": [
  {
   "cell_type": "markdown",
   "id": "9d2bf06f-95d4-4239-b166-3a96f64c3a90",
   "metadata": {},
   "source": [
    "from https://docs.fenicsproject.org/dolfinx/v0.5.1/python/demos/demo_poisson.html"
   ]
  },
  {
   "cell_type": "code",
   "execution_count": 1,
   "id": "8e5e243c-ca1c-44c0-91d4-64b254d79614",
   "metadata": {},
   "outputs": [],
   "source": [
    "import numpy as np\n",
    "\n",
    "import ufl\n",
    "from dolfinx import fem, io, mesh, plot\n",
    "from ufl import ds, dx, grad, inner\n",
    "\n",
    "from mpi4py import MPI\n",
    "from petsc4py.PETSc import ScalarType"
   ]
  },
  {
   "cell_type": "markdown",
   "id": "f2939c71-3f92-47f7-b680-7f1b86918cbf",
   "metadata": {},
   "source": [
    "We begin by using create_rectangle to create a rectangular Mesh of the domain, and creating a finite element FunctionSpace  on the mesh."
   ]
  },
  {
   "cell_type": "code",
   "execution_count": 2,
   "id": "e837c946-f418-4a92-a149-7366cd9692fc",
   "metadata": {},
   "outputs": [],
   "source": [
    "msh = mesh.create_rectangle(comm=MPI.COMM_WORLD,\n",
    "                            points=((0.0, 0.0), (2.0, 1.0)), n=(32, 16),\n",
    "                            cell_type=mesh.CellType.triangle,)\n",
    "V = fem.FunctionSpace(msh, (\"Lagrange\", 1))"
   ]
  },
  {
   "cell_type": "markdown",
   "id": "a525ee0c-43f4-4a7f-867d-915541e8f469",
   "metadata": {},
   "source": [
    "The second argument to FunctionSpace is a tuple consisting of (family, degree), where family is the finite element family, and degree specifies the polynomial degree. in this case V consists of first-order, continuous Lagrange finite element functions.\n",
    "\n",
    "Next, we locate the mesh facets that lie on the boundary . We do this using using locate_entities_boundary and providing a marker function that returns True for points x on the boundary and False otherwise."
   ]
  },
  {
   "cell_type": "code",
   "execution_count": 3,
   "id": "979f7c26-0585-4249-b148-c839afe14943",
   "metadata": {},
   "outputs": [],
   "source": [
    "facets = mesh.locate_entities_boundary(msh, dim=1,\n",
    "                                       marker=lambda x: np.logical_or(np.isclose(x[0], 0.0),\n",
    "                                                                      np.isclose(x[0], 2.0)))"
   ]
  },
  {
   "cell_type": "markdown",
   "id": "4f742da5-3cc7-4221-a330-ec8468436e50",
   "metadata": {},
   "source": [
    "We now find the degrees-of-freedom that are associated with the boundary facets using locate_dofs_topological and use dirichletbc to create a DirichletBCMetaClass class that represents the boundary condition"
   ]
  },
  {
   "cell_type": "code",
   "execution_count": 4,
   "id": "1dcd657f-66d5-4f23-a2b2-390164899160",
   "metadata": {},
   "outputs": [],
   "source": [
    "dofs = fem.locate_dofs_topological(V=V, entity_dim=1, entities=facets)\n",
    "bc = fem.dirichletbc(value=ScalarType(0), dofs=dofs, V=V)"
   ]
  },
  {
   "cell_type": "markdown",
   "id": "eb70b560-259e-4067-b532-99fcbe829049",
   "metadata": {},
   "source": [
    "Next, we express the variational problem using UFL."
   ]
  },
  {
   "cell_type": "code",
   "execution_count": 5,
   "id": "2bede677-22a4-4616-9efe-66a3fdd59460",
   "metadata": {},
   "outputs": [],
   "source": [
    "u = ufl.TrialFunction(V)\n",
    "v = ufl.TestFunction(V)\n",
    "x = ufl.SpatialCoordinate(msh)\n",
    "f = 10 * ufl.exp(-((x[0] - 0.5) ** 2 + (x[1] - 0.5) ** 2) / 0.02)\n",
    "g = ufl.sin(5 * x[0])\n",
    "a = inner(grad(u), grad(v)) * dx\n",
    "L = inner(f, v) * dx + inner(g, v) * ds"
   ]
  },
  {
   "cell_type": "markdown",
   "id": "05e68300-a0cb-4086-b94c-867494203355",
   "metadata": {},
   "source": [
    "We create a LinearProblem object that brings together the variational problem, the Dirichlet boundary condition, and which specifies the linear solver. In this case we use a direct (LU) solver. The solve will compute a solution."
   ]
  },
  {
   "cell_type": "code",
   "execution_count": 6,
   "id": "f70a3a12-0a1f-4c22-956a-de825c377f84",
   "metadata": {},
   "outputs": [],
   "source": [
    "problem = fem.petsc.LinearProblem(a, L, bcs=[bc], petsc_options={\"ksp_type\": \"preonly\", \"pc_type\": \"lu\"})\n",
    "uh = problem.solve()"
   ]
  },
  {
   "cell_type": "markdown",
   "id": "39c7082c-3a8e-4468-9d71-d3176dc8f1a8",
   "metadata": {},
   "source": [
    "The solution can be written to a XDMFFile file visualization with ParaView or VisIt and displayed using pyvista."
   ]
  },
  {
   "cell_type": "code",
   "execution_count": 7,
   "id": "0a13cf68-2a7d-40df-a5c9-e560bd3b2168",
   "metadata": {},
   "outputs": [
    {
     "name": "stderr",
     "output_type": "stream",
     "text": [
      "/usr/bin/which: no Xvfb in (/home/kendrab/usr_configs/pyvpic:/home/kendrab/.conda/envs/fenicsx-env/bin:/home/kendrab/.local/bin:/home/kendrab/bin:/usr/share/Modules/bin:/usr/local/bin:/usr/bin:/usr/local/sbin:/usr/sbin:/opt/puppetlabs/bin:/opt/dell/srvadmin/bin)\n"
     ]
    },
    {
     "ename": "OSError",
     "evalue": "Please install Xvfb with:\n\nDebian\n$ sudo apt install libgl1-mesa-glx xvfb\n\nCentOS / RHL\n$ sudo yum install libgl1-mesa-glx xvfb\n\n",
     "output_type": "error",
     "traceback": [
      "\u001b[0;31m---------------------------------------------------------------------------\u001b[0m",
      "\u001b[0;31mOSError\u001b[0m                                   Traceback (most recent call last)",
      "Cell \u001b[0;32mIn [7], line 7\u001b[0m\n\u001b[1;32m      5\u001b[0m \u001b[38;5;28;01mtry\u001b[39;00m:\n\u001b[1;32m      6\u001b[0m     \u001b[38;5;28;01mimport\u001b[39;00m \u001b[38;5;21;01mpyvista\u001b[39;00m\n\u001b[0;32m----> 7\u001b[0m     pyvista\u001b[38;5;241m.\u001b[39mstart_xvfb()\n\u001b[1;32m      8\u001b[0m     cells, types, x \u001b[38;5;241m=\u001b[39m plot\u001b[38;5;241m.\u001b[39mcreate_vtk_mesh(V)\n\u001b[1;32m      9\u001b[0m     grid \u001b[38;5;241m=\u001b[39m pyvista\u001b[38;5;241m.\u001b[39mUnstructuredGrid(cells, types, x)\n",
      "File \u001b[0;32m~/.conda/envs/fenicsx-env/lib/python3.10/site-packages/pyvista/utilities/xvfb.py:47\u001b[0m, in \u001b[0;36mstart_xvfb\u001b[0;34m(wait, window_size)\u001b[0m\n\u001b[1;32m     44\u001b[0m     \u001b[38;5;28;01mraise\u001b[39;00m \u001b[38;5;167;01mOSError\u001b[39;00m(\u001b[38;5;124m'\u001b[39m\u001b[38;5;124m`start_xvfb` is only supported on Linux\u001b[39m\u001b[38;5;124m'\u001b[39m)\n\u001b[1;32m     46\u001b[0m \u001b[38;5;28;01mif\u001b[39;00m os\u001b[38;5;241m.\u001b[39msystem(\u001b[38;5;124m'\u001b[39m\u001b[38;5;124mwhich Xvfb > /dev/null\u001b[39m\u001b[38;5;124m'\u001b[39m):\n\u001b[0;32m---> 47\u001b[0m     \u001b[38;5;28;01mraise\u001b[39;00m \u001b[38;5;167;01mOSError\u001b[39;00m(XVFB_INSTALL_NOTES)\n\u001b[1;32m     49\u001b[0m \u001b[38;5;66;03m# use current default window size\u001b[39;00m\n\u001b[1;32m     50\u001b[0m \u001b[38;5;28;01mif\u001b[39;00m window_size \u001b[38;5;129;01mis\u001b[39;00m \u001b[38;5;28;01mNone\u001b[39;00m:\n",
      "\u001b[0;31mOSError\u001b[0m: Please install Xvfb with:\n\nDebian\n$ sudo apt install libgl1-mesa-glx xvfb\n\nCentOS / RHL\n$ sudo yum install libgl1-mesa-glx xvfb\n\n"
     ]
    }
   ],
   "source": [
    "with io.XDMFFile(msh.comm, \"out_poisson/poisson.xdmf\", \"w\") as file:\n",
    "    file.write_mesh(msh)\n",
    "    file.write_function(uh)\n",
    "    \n",
    "try:\n",
    "    import pyvista\n",
    "    pyvista.start_xvfb()\n",
    "    cells, types, x = plot.create_vtk_mesh(V)\n",
    "    grid = pyvista.UnstructuredGrid(cells, types, x)\n",
    "    grid.point_data[\"u\"] = uh.x.array.real\n",
    "    grid.set_active_scalars(\"u\")\n",
    "    plotter = pyvista.Plotter()\n",
    "    plotter.add_mesh(grid, show_edges=True)\n",
    "    warped = grid.warp_by_scalar()\n",
    "    plotter.add_mesh(warped)\n",
    "    plotter.show()\n",
    "except ModuleNotFoundError:\n",
    "    print(\"'pyvista' is required to visualise the solution\")\n",
    "    print(\"Install 'pyvista' with pip: 'python3 -m pip install pyvista'\")"
   ]
  },
  {
   "cell_type": "code",
   "execution_count": null,
   "id": "979f1f15-a256-4c42-9989-eb4a91423e16",
   "metadata": {},
   "outputs": [],
   "source": []
  }
 ],
 "metadata": {
  "kernelspec": {
   "display_name": "Python 3 (ipykernel)",
   "language": "python",
   "name": "python3"
  },
  "language_info": {
   "codemirror_mode": {
    "name": "ipython",
    "version": 3
   },
   "file_extension": ".py",
   "mimetype": "text/x-python",
   "name": "python",
   "nbconvert_exporter": "python",
   "pygments_lexer": "ipython3",
   "version": "3.10.6"
  }
 },
 "nbformat": 4,
 "nbformat_minor": 5
}
