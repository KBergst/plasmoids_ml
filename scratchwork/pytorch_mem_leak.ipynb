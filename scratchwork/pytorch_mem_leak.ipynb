{
 "cells": [
  {
   "cell_type": "code",
   "execution_count": 1,
   "id": "1a6c091d-5c2e-4476-95a2-31591659f603",
   "metadata": {},
   "outputs": [
    {
     "name": "stdout",
     "output_type": "stream",
     "text": [
      "274.0\n",
      "1.12.1\n",
      "3.7.0\n"
     ]
    }
   ],
   "source": [
    "import torch\n",
    "import numpy as np\n",
    "import h5py\n",
    "import sys\n",
    "import psutil\n",
    "process = psutil.Process()\n",
    "print(process.memory_info().rss/1024/1024)  # used memory in mb\n",
    "outfile=\"outs/testingmemleak.h5\"\n",
    "print(torch.__version__)\n",
    "print(h5py.__version__)\n",
    "# yay this has been fixed in a newer version of pytorch"
   ]
  },
  {
   "cell_type": "code",
   "execution_count": 2,
   "id": "f7cc38f3-b0ef-4dc9-b86d-00056c5dbe1b",
   "metadata": {},
   "outputs": [
    {
     "name": "stdout",
     "output_type": "stream",
     "text": [
      "306.6875\n"
     ]
    }
   ],
   "source": [
    "fill_value = \"value\".encode('ascii')\n",
    "large_array_bad = np.full((400,2000,8), fill_value)\n",
    "# write a nice file\n",
    "with h5py.File(outfile, 'w') as file:\n",
    "    file.create_dataset('bad', data=large_array_bad)\n",
    "print(process.memory_info().rss/1024/1024)"
   ]
  },
  {
   "cell_type": "code",
   "execution_count": 3,
   "id": "737dc341-ce80-41c3-a64f-e4f067e82c49",
   "metadata": {},
   "outputs": [
    {
     "name": "stdout",
     "output_type": "stream",
     "text": [
      "335.5625\n",
      "couldn't convert from numpy\n",
      "335.5625\n",
      "368.5\n",
      "couldn't convert from numpy\n",
      "368.5\n",
      "397.375\n",
      "couldn't convert from numpy\n",
      "397.375\n",
      "426.25\n",
      "couldn't convert from numpy\n",
      "426.25\n",
      "459.25\n",
      "couldn't convert from numpy\n",
      "459.25\n",
      "488.125\n",
      "couldn't convert from numpy\n",
      "488.125\n",
      "521.125\n",
      "couldn't convert from numpy\n",
      "521.125\n",
      "550.0\n",
      "couldn't convert from numpy\n",
      "550.0\n",
      "578.875\n",
      "couldn't convert from numpy\n",
      "578.875\n",
      "611.875\n",
      "couldn't convert from numpy\n",
      "611.875\n",
      "640.75\n",
      "couldn't convert from numpy\n",
      "640.75\n",
      "673.75\n",
      "couldn't convert from numpy\n",
      "673.75\n",
      "702.625\n",
      "couldn't convert from numpy\n",
      "702.625\n",
      "735.625\n",
      "couldn't convert from numpy\n",
      "735.625\n",
      "764.5\n",
      "couldn't convert from numpy\n",
      "764.5\n",
      "793.375\n",
      "couldn't convert from numpy\n",
      "793.375\n",
      "826.375\n",
      "couldn't convert from numpy\n",
      "826.375\n",
      "855.25\n",
      "couldn't convert from numpy\n",
      "855.25\n",
      "888.25\n",
      "couldn't convert from numpy\n",
      "888.25\n",
      "917.125\n",
      "couldn't convert from numpy\n",
      "917.125\n",
      "946.0\n",
      "couldn't convert from numpy\n",
      "946.0\n",
      "979.0\n",
      "couldn't convert from numpy\n",
      "979.0\n",
      "1007.875\n",
      "couldn't convert from numpy\n",
      "1007.875\n"
     ]
    },
    {
     "ename": "SystemExit",
     "evalue": "Too much memory used",
     "output_type": "error",
     "traceback": [
      "An exception has occurred, use %tb to see the full traceback.\n",
      "\u001b[0;31mSystemExit\u001b[0m\u001b[0;31m:\u001b[0m Too much memory used\n"
     ]
    },
    {
     "name": "stderr",
     "output_type": "stream",
     "text": [
      "/home/kendrab/.conda/envs/torch-env/lib/python3.10/site-packages/IPython/core/interactiveshell.py:3450: UserWarning: To exit: use 'exit', 'quit', or Ctrl-D.\n",
      "  warn(\"To exit: use 'exit', 'quit', or Ctrl-D.\", stacklevel=1)\n"
     ]
    }
   ],
   "source": [
    "for i in range(100):\n",
    "    # read a nice file\n",
    "    data_dict={}\n",
    "    with h5py.File(outfile,'r') as file:\n",
    "        for label, data in file.items():\n",
    "            data_dict[label] = data[()]\n",
    "    print(process.memory_info().rss/1024/1024)\n",
    "    tensor_data = []\n",
    "    for label, data in data_dict.items():  # try to convert to torch tensors\n",
    "        try:\n",
    "            tensor = torch.from_numpy(data)\n",
    "            tensor_data.append(tensor)\n",
    "        except TypeError:\n",
    "            print(\"couldn't convert from numpy\")\n",
    "    print(process.memory_info().rss/1024/1024)  # the memory is increasing\n",
    "    if process.memory_info().rss/1024/1024 > 1000:\n",
    "        sys.exit(\"Too much memory used\")"
   ]
  },
  {
   "cell_type": "code",
   "execution_count": null,
   "id": "669d86de-d272-4718-bd27-7ff39ea99108",
   "metadata": {},
   "outputs": [],
   "source": []
  }
 ],
 "metadata": {
  "kernelspec": {
   "display_name": "Python 3 (ipykernel)",
   "language": "python",
   "name": "python3"
  },
  "language_info": {
   "codemirror_mode": {
    "name": "ipython",
    "version": 3
   },
   "file_extension": ".py",
   "mimetype": "text/x-python",
   "name": "python",
   "nbconvert_exporter": "python",
   "pygments_lexer": "ipython3",
   "version": "3.10.9"
  }
 },
 "nbformat": 4,
 "nbformat_minor": 5
}
