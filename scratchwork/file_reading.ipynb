{
 "cells": [
  {
   "cell_type": "code",
   "execution_count": 1,
   "id": "injured-dominican",
   "metadata": {},
   "outputs": [],
   "source": [
    "import sys\n",
    "import numpy as np\n",
    "import h5py"
   ]
  },
  {
   "cell_type": "code",
   "execution_count": null,
   "id": "optimum-mitchell",
   "metadata": {},
   "outputs": [],
   "source": []
  },
  {
   "cell_type": "code",
   "execution_count": 9,
   "id": "collected-modem",
   "metadata": {},
   "outputs": [
    {
     "name": "stdout",
     "output_type": "stream",
     "text": [
      "<KeysViewHDF5 ['electron', 'field', 'grid', 'ion', 'parameters']>\n"
     ]
    },
    {
     "data": {
      "text/plain": [
       "<HDF5 dataset \"x\": shape (1108,), type \"<f4\">"
      ]
     },
     "execution_count": 9,
     "metadata": {},
     "output_type": "execute_result"
    }
   ],
   "source": [
    "readpath = '/tigress/kendrab/vpic_testing/data.h5'\n",
    "\n",
    "file = h5py.File(readpath, 'r')\n",
    "print(file.keys())\n",
    "file['grid/x']"
   ]
  },
  {
   "cell_type": "code",
   "execution_count": null,
   "id": "forward-crossing",
   "metadata": {},
   "outputs": [],
   "source": [
    "file.close()"
   ]
  }
 ],
 "metadata": {
  "kernelspec": {
   "display_name": "Python 3",
   "language": "python",
   "name": "python3"
  },
  "language_info": {
   "codemirror_mode": {
    "name": "ipython",
    "version": 3
   },
   "file_extension": ".py",
   "mimetype": "text/x-python",
   "name": "python",
   "nbconvert_exporter": "python",
   "pygments_lexer": "ipython3",
   "version": "3.7.9"
  }
 },
 "nbformat": 4,
 "nbformat_minor": 5
}
