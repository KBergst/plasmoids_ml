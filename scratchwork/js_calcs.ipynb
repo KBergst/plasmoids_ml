{
 "cells": [
  {
   "cell_type": "code",
   "execution_count": 141,
   "id": "6848535c-a7f2-4a86-92ba-0aa2d3dbb95a",
   "metadata": {},
   "outputs": [],
   "source": [
    "import numpy as np\n",
    "import torch\n",
    "from torch import nn\n",
    "from scipy.spatial.distance import jensenshannon\n",
    "import scipy.special as sp\n",
    "from torch.nn.functional import kl_div"
   ]
  },
  {
   "cell_type": "code",
   "execution_count": 142,
   "id": "bf4cc33d-8c49-4cd7-8322-8ac5288f925c",
   "metadata": {},
   "outputs": [],
   "source": [
    "def zhao_bound(js_labels, js_feats, err_source):\n",
    "    bound = (js_labels - js_feats)**2 - err_source\n",
    "    return bound"
   ]
  },
  {
   "cell_type": "code",
   "execution_count": 143,
   "id": "4bdc1cf0-c02f-4cb5-b561-d8ec9f2c1708",
   "metadata": {},
   "outputs": [],
   "source": [
    "sim_error = 0.338\n",
    "sim_dist = np.array([1-0.242,0.242])  # not plasmoid, plasmoid\n",
    "js_feats=[0.178, 0.314]  # adda_knee, sim_mms"
   ]
  },
  {
   "cell_type": "code",
   "execution_count": 144,
   "id": "192329f3-aaed-44aa-b498-ff5dfbf51a56",
   "metadata": {
    "tags": []
   },
   "outputs": [],
   "source": [
    "mms_plasmoids_dists = [np.array([1-0.242,0.242]),\n",
    "                      np.array([0.9,0.1]),\n",
    "                      np.array([0.99,0.01]),\n",
    "                       np.array([0.999, 0.001]),\n",
    "                       np.array([1,0]),\n",
    "                      np.array([0,1])]"
   ]
  },
  {
   "cell_type": "code",
   "execution_count": 145,
   "id": "31b1e97c-f01b-4852-951c-e28b17c96c23",
   "metadata": {},
   "outputs": [
    {
     "name": "stdout",
     "output_type": "stream",
     "text": [
      "0.178 [0.758 0.242] 0.0 -0.30631600000000003\n",
      "0.178 [0.9 0.1] 0.1350542263301967 -0.33615566052390206\n",
      "0.178 [0.99 0.01] 0.27207273244160013 -0.32915032101097114\n",
      "0.178 [0.999 0.001] 0.298767839936085 -0.32341512883717216\n",
      "0.178 [1 0] 0.3036865595182147 -0.3222028887564743\n",
      "0.178 [0 1] 0.6220010320791731 -0.1408630835126291\n",
      "0.314 [0.758 0.242] 0.0 -0.239404\n",
      "0.314 [0.9 0.1] 0.1350542263301967 -0.3059784100857156\n",
      "0.314 [0.99 0.01] 0.27207273244160013 -0.3362421042350864\n",
      "0.314 [0.999 0.001] 0.298767839936085 -0.3377679812997873\n",
      "0.314 [1 0] 0.3036865595182147 -0.3378936329454287\n",
      "0.314 [0 1] 0.6220010320791731 -0.24313536423816418\n"
     ]
    }
   ],
   "source": [
    "for js_feat in js_feats:\n",
    "    for mms_dist in mms_plasmoids_dists:\n",
    "        js = jensenshannon(sim_dist, mms_dist)\n",
    "        bound = zhao_bound(js, js_feat, sim_error)\n",
    "        print(js_feat, mms_dist, js, bound)"
   ]
  },
  {
   "cell_type": "code",
   "execution_count": 146,
   "id": "f369ea58-0ee0-4eff-871a-3416cf6d056c",
   "metadata": {
    "tags": []
   },
   "outputs": [
    {
     "name": "stdout",
     "output_type": "stream",
     "text": [
      "[0. 0.]\n"
     ]
    }
   ],
   "source": [
    "js = jensenshannon(a,b)\n",
    "print(js)"
   ]
  },
  {
   "cell_type": "code",
   "execution_count": null,
   "id": "a52d2e5a-a233-4d12-a650-5e8f63818e3d",
   "metadata": {},
   "outputs": [],
   "source": []
  }
 ],
 "metadata": {
  "kernelspec": {
   "display_name": "torch-env [~/.conda/envs/torch-env/]",
   "language": "python",
   "name": "conda_torch-env"
  },
  "language_info": {
   "codemirror_mode": {
    "name": "ipython",
    "version": 3
   },
   "file_extension": ".py",
   "mimetype": "text/x-python",
   "name": "python",
   "nbconvert_exporter": "python",
   "pygments_lexer": "ipython3",
   "version": "3.11.5"
  }
 },
 "nbformat": 4,
 "nbformat_minor": 5
}
