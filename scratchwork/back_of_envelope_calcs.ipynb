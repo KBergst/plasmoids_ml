{
 "cells": [
  {
   "cell_type": "markdown",
   "id": "d0364edb-2e9b-4df7-9aa4-ef1f40f53a90",
   "metadata": {},
   "source": [
    "## place to show my work calculating e.g. typical ion skin depths or whatever."
   ]
  },
  {
   "cell_type": "code",
   "execution_count": 6,
   "id": "51706a21-1cea-44e7-bd28-f0c200a6a88e",
   "metadata": {},
   "outputs": [],
   "source": [
    "from scipy.constants import physical_constants\n",
    "import numpy as np"
   ]
  },
  {
   "cell_type": "code",
   "execution_count": 7,
   "id": "8108bdd7-bc01-4a00-8f82-cb572bd6bf32",
   "metadata": {},
   "outputs": [],
   "source": [
    "e = physical_constants[\"elementary charge\"][0]  # in coulombs\n",
    "c = physical_constants[\"speed of light in vacuum\"][0]  # m/s\n",
    "eps_0 = physical_constants[\"vacuum electric permittivity\"][0]  # Farads/m\n",
    "mu_0 = physical_constants[\"vacuum mag. permeability\"][0]  # N/A^2\n",
    "eV_to_j = physical_constants[\"electron volt-joule relationship\"][0]  # Joules\n",
    "amu_to_kg = physical_constants[\"atomic mass constant\"][0]  # kg\n",
    "km_to_re = 1/6378  # Re"
   ]
  },
  {
   "cell_type": "markdown",
   "id": "e54c5e82-4052-44e5-89da-ee7036791a6d",
   "metadata": {},
   "source": [
    "### Magnetotail lobe stuff"
   ]
  },
  {
   "cell_type": "code",
   "execution_count": 8,
   "id": "ae09a762-a02c-4318-92fa-6a5abe4f35c8",
   "metadata": {},
   "outputs": [
    {
     "name": "stdout",
     "output_type": "stream",
     "text": [
      "Ion skin depth: 9075.47185323339 km or 1.4229338120466275 Re\n",
      "Plasma beta: 0.0001006677269173535\n"
     ]
    }
   ],
   "source": [
    "n_cm3 = 0.01\n",
    "n_m3 = n_cm3 * 1e6 # cm^-3 * (100 cm / m)^3\n",
    "T_eV = 10\n",
    "T_j = T_eV * eV_to_j\n",
    "B_nT = 20\n",
    "B_T = 20 * 1e-9  # Teslas\n",
    "m_i_amu = 16  # amu, assuming all oxygen ions\n",
    "m_i_kg = m_i_amu * amu_to_kg\n",
    "\n",
    "d_i_m = c * np.sqrt(eps_0 * m_i_kg) / np.sqrt(n_m3 * e * e)\n",
    "d_i_km = d_i_m/1000\n",
    "d_i_re = d_i_km * km_to_re\n",
    "print(f\"Ion skin depth: {d_i_km} km or {d_i_re} Re\")\n",
    "\n",
    "p_pa = n_m3 * T_j  # Pascals (I think lol)\n",
    "pB_pa = B_T * B_T / 2 / mu_0\n",
    "beta = p_pa/pB_pa\n",
    "print(f\"Plasma beta: {beta}\")"
   ]
  },
  {
   "cell_type": "markdown",
   "id": "5521d351-72d9-4f1d-90ee-019acd6c8ea0",
   "metadata": {},
   "source": [
    "### Magnetotail sheet stuff"
   ]
  },
  {
   "cell_type": "code",
   "execution_count": 9,
   "id": "40b439f7-b050-4acc-aa8e-9f9605e583cb",
   "metadata": {},
   "outputs": [
    {
     "name": "stdout",
     "output_type": "stream",
     "text": [
      "Ion skin depth: 1171.638378218236 km or 0.18369996522706744 Re\n",
      "Magnetic field magnitude: 6.218179456845747 nT\n"
     ]
    }
   ],
   "source": [
    "n_cm3 = 0.6\n",
    "n_m3 = n_cm3 * 1e6\n",
    "T_kev = 3.8\n",
    "T_ev = T_kev*1e3\n",
    "p_npa = 0.2\n",
    "p_pa = p_npa * 1e-9  # Pascals\n",
    "beta = 13\n",
    "\n",
    "d_i_m = c * np.sqrt(eps_0 * m_i_kg) / np.sqrt(n_m3 * e * e)\n",
    "d_i_km = d_i_m/1000\n",
    "d_i_re = d_i_km * km_to_re\n",
    "print(f\"Ion skin depth: {d_i_km} km or {d_i_re} Re\")\n",
    "\n",
    "pB_pa = p_pa/beta\n",
    "B_T = np.sqrt(pB_pa * 2 * mu_0)\n",
    "B_nT = B_T * 1e9\n",
    "print(f\"Magnetic field magnitude: {B_nT} nT\")"
   ]
  },
  {
   "cell_type": "code",
   "execution_count": null,
   "id": "8531736a-1e28-4660-bd8d-071b9b524cd0",
   "metadata": {},
   "outputs": [],
   "source": []
  }
 ],
 "metadata": {
  "kernelspec": {
   "display_name": "pyspedas [~/.conda/envs/pyspedas/]",
   "language": "python",
   "name": "conda_pyspedas"
  },
  "language_info": {
   "codemirror_mode": {
    "name": "ipython",
    "version": 3
   },
   "file_extension": ".py",
   "mimetype": "text/x-python",
   "name": "python",
   "nbconvert_exporter": "python",
   "pygments_lexer": "ipython3",
   "version": "3.7.16"
  }
 },
 "nbformat": 4,
 "nbformat_minor": 5
}
