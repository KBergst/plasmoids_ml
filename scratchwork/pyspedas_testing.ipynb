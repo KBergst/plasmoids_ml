{
 "cells": [
  {
   "cell_type": "markdown",
   "id": "64f16be3-070a-4c7a-ad96-1e9ec06b67c0",
   "metadata": {},
   "source": [
    "See https://pyspedas.readthedocs.io/en/latest/mms.html for implementation details"
   ]
  },
  {
   "cell_type": "code",
   "execution_count": 1,
   "id": "42e12c4d-d735-464b-a96c-e3e7f34ab21b",
   "metadata": {},
   "outputs": [],
   "source": [
    "import pyspedas\n",
    "import pytplot"
   ]
  },
  {
   "cell_type": "code",
   "execution_count": 2,
   "id": "1cbc61e9-9f3a-46da-b21b-2ddeb295abd8",
   "metadata": {},
   "outputs": [],
   "source": [
    "trange = ['2017-07-26/07:20:00', '2017-07-26/07:40:00']\n",
    "data_rate='brst'"
   ]
  },
  {
   "cell_type": "code",
   "execution_count": 6,
   "id": "1e1f7672-48e4-4ab6-8d78-30d3448a578e",
   "metadata": {
    "scrolled": true,
    "tags": []
   },
   "outputs": [
    {
     "name": "stdout",
     "output_type": "stream",
     "text": [
      "Loading pydata/mms1/fgm/brst/l2/2017/07/26/mms1_fgm_brst_l2_20170726071653_v5.98.0.cdf\n",
      "Loading pydata/mms1/fgm/brst/l2/2017/07/26/mms1_fgm_brst_l2_20170726072113_v5.98.0.cdf\n",
      "Loading pydata/mms1/fgm/brst/l2/2017/07/26/mms1_fgm_brst_l2_20170726072613_v5.98.0.cdf\n",
      "Loading pydata/mms1/fgm/brst/l2/2017/07/26/mms1_fgm_brst_l2_20170726073113_v5.98.0.cdf\n",
      "Loading pydata/mms1/fgm/brst/l2/2017/07/26/mms1_fgm_brst_l2_20170726073213_v5.98.0.cdf\n",
      "Loading pydata/mms1/fgm/brst/l2/2017/07/26/mms1_fgm_brst_l2_20170726073613_v5.98.0.cdf\n",
      "Loading pydata/mms1/fgm/brst/l2/2017/07/26/mms1_fgm_brst_l2_20170726073713_v5.98.0.cdf\n",
      "Loaded variables:\n",
      "Epoch\n",
      "mms1_fgm_b_gse_brst_l2\n",
      "mms1_fgm_b_gsm_brst_l2\n",
      "mms1_fgm_b_dmpa_brst_l2\n",
      "mms1_fgm_b_bcs_brst_l2\n",
      "mms1_fgm_flag_brst_l2\n",
      "Epoch_state\n",
      "mms1_fgm_r_gse_brst_l2\n",
      "mms1_fgm_r_gsm_brst_l2\n",
      "mms1_fgm_hirange_brst_l2\n",
      "mms1_fgm_bdeltahalf_brst_l2\n",
      "mms1_fgm_stemp_brst_l2\n",
      "mms1_fgm_etemp_brst_l2\n",
      "mms1_fgm_mode_brst_l2\n",
      "mms1_fgm_rdeltahalf_brst_l2\n",
      "mms1_fgm_b_dmpa_brst_l2_bvec\n",
      "mms1_fgm_b_dmpa_brst_l2_btot\n",
      "mms1_fgm_b_gse_brst_l2_bvec\n",
      "mms1_fgm_b_gse_brst_l2_btot\n",
      "mms1_fgm_b_gsm_brst_l2_bvec\n",
      "mms1_fgm_b_gsm_brst_l2_btot\n",
      "mms1_fgm_b_bcs_brst_l2_bvec\n",
      "mms1_fgm_b_bcs_brst_l2_btot\n"
     ]
    },
    {
     "data": {
      "text/plain": [
       "['Epoch',\n",
       " 'mms1_fgm_b_gse_brst_l2',\n",
       " 'mms1_fgm_b_gsm_brst_l2',\n",
       " 'mms1_fgm_b_dmpa_brst_l2',\n",
       " 'mms1_fgm_b_bcs_brst_l2',\n",
       " 'mms1_fgm_flag_brst_l2',\n",
       " 'Epoch_state',\n",
       " 'mms1_fgm_r_gse_brst_l2',\n",
       " 'mms1_fgm_r_gsm_brst_l2',\n",
       " 'mms1_fgm_hirange_brst_l2',\n",
       " 'mms1_fgm_bdeltahalf_brst_l2',\n",
       " 'mms1_fgm_stemp_brst_l2',\n",
       " 'mms1_fgm_etemp_brst_l2',\n",
       " 'mms1_fgm_mode_brst_l2',\n",
       " 'mms1_fgm_rdeltahalf_brst_l2',\n",
       " 'mms1_fgm_b_dmpa_brst_l2_bvec',\n",
       " 'mms1_fgm_b_dmpa_brst_l2_btot',\n",
       " 'mms1_fgm_b_gse_brst_l2_bvec',\n",
       " 'mms1_fgm_b_gse_brst_l2_btot',\n",
       " 'mms1_fgm_b_gsm_brst_l2_bvec',\n",
       " 'mms1_fgm_b_gsm_brst_l2_btot',\n",
       " 'mms1_fgm_b_bcs_brst_l2_bvec',\n",
       " 'mms1_fgm_b_bcs_brst_l2_btot']"
      ]
     },
     "execution_count": 6,
     "metadata": {},
     "output_type": "execute_result"
    }
   ],
   "source": [
    "tvars = pyspedas.mms.fgm(trange=trange, data_rate=data_rate, get_fgm_ephemeris=True)\n",
    "tvars"
   ]
  },
  {
   "cell_type": "code",
   "execution_count": 4,
   "id": "3cdca331-86c2-4b37-8613-c6e463bf8cd6",
   "metadata": {},
   "outputs": [
    {
     "ename": "NameError",
     "evalue": "name 'pytplot' is not defined",
     "output_type": "error",
     "traceback": [
      "\u001b[0;31m---------------------------------------------------------------------------\u001b[0m",
      "\u001b[0;31mNameError\u001b[0m                                 Traceback (most recent call last)",
      "\u001b[0;32m/tmp/ipykernel_779061/3405338145.py\u001b[0m in \u001b[0;36m<module>\u001b[0;34m\u001b[0m\n\u001b[0;32m----> 1\u001b[0;31m \u001b[0mprint\u001b[0m\u001b[0;34m(\u001b[0m\u001b[0mtype\u001b[0m\u001b[0;34m(\u001b[0m\u001b[0mpytplot\u001b[0m\u001b[0;34m.\u001b[0m\u001b[0mdata_quants\u001b[0m\u001b[0;34m[\u001b[0m\u001b[0;34m\"mms1_fgm_b_gsm_brst_l2\"\u001b[0m\u001b[0;34m]\u001b[0m\u001b[0;34m)\u001b[0m\u001b[0;34m)\u001b[0m\u001b[0;34m\u001b[0m\u001b[0;34m\u001b[0m\u001b[0m\n\u001b[0m\u001b[1;32m      2\u001b[0m \u001b[0mprint\u001b[0m\u001b[0;34m(\u001b[0m\u001b[0mtype\u001b[0m\u001b[0;34m(\u001b[0m\u001b[0mpytplot\u001b[0m\u001b[0;34m.\u001b[0m\u001b[0mdata_quants\u001b[0m\u001b[0;34m)\u001b[0m\u001b[0;34m)\u001b[0m\u001b[0;34m\u001b[0m\u001b[0;34m\u001b[0m\u001b[0m\n",
      "\u001b[0;31mNameError\u001b[0m: name 'pytplot' is not defined"
     ]
    }
   ],
   "source": [
    "print(type(pytplot.data_quants[\"mms1_fgm_b_gsm_brst_l2\"]))\n",
    "print(type(pytplot.data_quants))"
   ]
  },
  {
   "cell_type": "code",
   "execution_count": null,
   "id": "d35a0eec-9c52-46cd-8f6d-07409bd1f95e",
   "metadata": {},
   "outputs": [],
   "source": [
    "print(type(pytplot.data_quants[\"mms1_fgm_b_gsm_brst_l2\"].values))"
   ]
  },
  {
   "cell_type": "code",
   "execution_count": null,
   "id": "a3ad50d2-e08c-42db-8508-b765a7b56d0d",
   "metadata": {},
   "outputs": [],
   "source": [
    "print(pytplot.data_quants[\"mms1_fgm_b_gsm_brst_l2\"].coords['time'].values)"
   ]
  },
  {
   "cell_type": "markdown",
   "id": "f81f87e5-97f8-49ff-9ec0-2b978713015d",
   "metadata": {},
   "source": [
    "### Let's see if I can figure out how to select a subsection of this data"
   ]
  },
  {
   "cell_type": "code",
   "execution_count": null,
   "id": "65f9e379-2510-44d8-b944-7af907b4afb4",
   "metadata": {},
   "outputs": [],
   "source": [
    "ones_slice = pytplot.data_quants[\"mms1_fgm_b_gsm_brst_l2\"].sel(time=slice('2017-07-26/07:30:00', '2017-07-26/07:40:00'))"
   ]
  },
  {
   "cell_type": "code",
   "execution_count": null,
   "id": "c1de886f-4690-4d28-9384-c07bc26a855f",
   "metadata": {
    "scrolled": true,
    "tags": []
   },
   "outputs": [],
   "source": [
    "ones_slice"
   ]
  }
 ],
 "metadata": {
  "kernelspec": {
   "display_name": "pyspedas [~/.conda/envs/pyspedas/]",
   "language": "python",
   "name": "conda_pyspedas"
  },
  "language_info": {
   "codemirror_mode": {
    "name": "ipython",
    "version": 3
   },
   "file_extension": ".py",
   "mimetype": "text/x-python",
   "name": "python",
   "nbconvert_exporter": "python",
   "pygments_lexer": "ipython3",
   "version": "3.7.16"
  }
 },
 "nbformat": 4,
 "nbformat_minor": 5
}
