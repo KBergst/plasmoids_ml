{
 "cells": [
  {
   "cell_type": "markdown",
   "id": "64f16be3-070a-4c7a-ad96-1e9ec06b67c0",
   "metadata": {},
   "source": [
    "See https://pyspedas.readthedocs.io/en/latest/mms.html for implementation details"
   ]
  },
  {
   "cell_type": "code",
   "execution_count": 1,
   "id": "42e12c4d-d735-464b-a96c-e3e7f34ab21b",
   "metadata": {},
   "outputs": [],
   "source": [
    "import pyspedas\n",
    "import pytplot\n",
    "import os\n",
    "os.environ[\"MMS_DATA_DIR\"] = \"/tigress/kendrab/analysis-notebooks/mms_data/pydata/\""
   ]
  },
  {
   "cell_type": "code",
   "execution_count": 2,
   "id": "1cbc61e9-9f3a-46da-b21b-2ddeb295abd8",
   "metadata": {},
   "outputs": [],
   "source": [
    "trange = ['2017-07-26/07:20:00', '2017-07-26/07:40:00']\n",
    "data_rate='brst'"
   ]
  },
  {
   "cell_type": "code",
   "execution_count": 3,
   "id": "1e1f7672-48e4-4ab6-8d78-30d3448a578e",
   "metadata": {
    "scrolled": true,
    "tags": []
   },
   "outputs": [
    {
     "name": "stdout",
     "output_type": "stream",
     "text": [
      "Loading /tigress/kendrab/analysis-notebooks/mms_data/pydata/mms1/fgm/brst/l2/2017/07/26/mms1_fgm_brst_l2_20170726071653_v5.98.0.cdf\n",
      "Loading /tigress/kendrab/analysis-notebooks/mms_data/pydata/mms1/fgm/brst/l2/2017/07/26/mms1_fgm_brst_l2_20170726072113_v5.98.0.cdf\n",
      "Loading /tigress/kendrab/analysis-notebooks/mms_data/pydata/mms1/fgm/brst/l2/2017/07/26/mms1_fgm_brst_l2_20170726072613_v5.98.0.cdf\n",
      "Loading /tigress/kendrab/analysis-notebooks/mms_data/pydata/mms1/fgm/brst/l2/2017/07/26/mms1_fgm_brst_l2_20170726073113_v5.98.0.cdf\n",
      "Loading /tigress/kendrab/analysis-notebooks/mms_data/pydata/mms1/fgm/brst/l2/2017/07/26/mms1_fgm_brst_l2_20170726073213_v5.98.0.cdf\n",
      "Loading /tigress/kendrab/analysis-notebooks/mms_data/pydata/mms1/fgm/brst/l2/2017/07/26/mms1_fgm_brst_l2_20170726073613_v5.98.0.cdf\n",
      "Loading /tigress/kendrab/analysis-notebooks/mms_data/pydata/mms1/fgm/brst/l2/2017/07/26/mms1_fgm_brst_l2_20170726073713_v5.98.0.cdf\n",
      "Loaded variables:\n",
      "Epoch\n",
      "mms1_fgm_b_gse_brst_l2\n",
      "mms1_fgm_b_gsm_brst_l2\n",
      "mms1_fgm_b_dmpa_brst_l2\n",
      "mms1_fgm_b_bcs_brst_l2\n",
      "mms1_fgm_flag_brst_l2\n",
      "Epoch_state\n",
      "mms1_fgm_r_gse_brst_l2\n",
      "mms1_fgm_r_gsm_brst_l2\n",
      "mms1_fgm_hirange_brst_l2\n",
      "mms1_fgm_bdeltahalf_brst_l2\n",
      "mms1_fgm_stemp_brst_l2\n",
      "mms1_fgm_etemp_brst_l2\n",
      "mms1_fgm_mode_brst_l2\n",
      "mms1_fgm_rdeltahalf_brst_l2\n",
      "mms1_fgm_b_dmpa_brst_l2_bvec\n",
      "mms1_fgm_b_dmpa_brst_l2_btot\n",
      "mms1_fgm_b_gse_brst_l2_bvec\n",
      "mms1_fgm_b_gse_brst_l2_btot\n",
      "mms1_fgm_b_gsm_brst_l2_bvec\n",
      "mms1_fgm_b_gsm_brst_l2_btot\n",
      "mms1_fgm_b_bcs_brst_l2_bvec\n",
      "mms1_fgm_b_bcs_brst_l2_btot\n"
     ]
    },
    {
     "data": {
      "text/plain": [
       "['Epoch',\n",
       " 'mms1_fgm_b_gse_brst_l2',\n",
       " 'mms1_fgm_b_gsm_brst_l2',\n",
       " 'mms1_fgm_b_dmpa_brst_l2',\n",
       " 'mms1_fgm_b_bcs_brst_l2',\n",
       " 'mms1_fgm_flag_brst_l2',\n",
       " 'Epoch_state',\n",
       " 'mms1_fgm_r_gse_brst_l2',\n",
       " 'mms1_fgm_r_gsm_brst_l2',\n",
       " 'mms1_fgm_hirange_brst_l2',\n",
       " 'mms1_fgm_bdeltahalf_brst_l2',\n",
       " 'mms1_fgm_stemp_brst_l2',\n",
       " 'mms1_fgm_etemp_brst_l2',\n",
       " 'mms1_fgm_mode_brst_l2',\n",
       " 'mms1_fgm_rdeltahalf_brst_l2',\n",
       " 'mms1_fgm_b_dmpa_brst_l2_bvec',\n",
       " 'mms1_fgm_b_dmpa_brst_l2_btot',\n",
       " 'mms1_fgm_b_gse_brst_l2_bvec',\n",
       " 'mms1_fgm_b_gse_brst_l2_btot',\n",
       " 'mms1_fgm_b_gsm_brst_l2_bvec',\n",
       " 'mms1_fgm_b_gsm_brst_l2_btot',\n",
       " 'mms1_fgm_b_bcs_brst_l2_bvec',\n",
       " 'mms1_fgm_b_bcs_brst_l2_btot']"
      ]
     },
     "execution_count": 3,
     "metadata": {},
     "output_type": "execute_result"
    }
   ],
   "source": [
    "tvars = pyspedas.mms.fgm(trange=trange, data_rate=data_rate, get_fgm_ephemeris=True)\n",
    "tvars"
   ]
  },
  {
   "cell_type": "code",
   "execution_count": 4,
   "id": "3cdca331-86c2-4b37-8613-c6e463bf8cd6",
   "metadata": {},
   "outputs": [
    {
     "name": "stdout",
     "output_type": "stream",
     "text": [
      "<class 'xarray.core.dataarray.DataArray'>\n",
      "<class 'collections.OrderedDict'>\n"
     ]
    }
   ],
   "source": [
    "print(type(pytplot.data_quants[\"mms1_fgm_b_gsm_brst_l2\"]))\n",
    "print(type(pytplot.data_quants))"
   ]
  },
  {
   "cell_type": "code",
   "execution_count": 5,
   "id": "d35a0eec-9c52-46cd-8f6d-07409bd1f95e",
   "metadata": {},
   "outputs": [
    {
     "name": "stdout",
     "output_type": "stream",
     "text": [
      "<class 'numpy.ndarray'>\n"
     ]
    }
   ],
   "source": [
    "print(type(pytplot.data_quants[\"mms1_fgm_b_gsm_brst_l2\"].values))"
   ]
  },
  {
   "cell_type": "code",
   "execution_count": 7,
   "id": "a3ad50d2-e08c-42db-8508-b765a7b56d0d",
   "metadata": {},
   "outputs": [
    {
     "name": "stdout",
     "output_type": "stream",
     "text": [
      "[[-22.93025     8.941152    2.2271702  24.712362 ]\n",
      " [-22.931967    8.940663    2.2257547  24.713654 ]\n",
      " [-22.933681    8.940182    2.2243395  24.714941 ]\n",
      " [-22.935392    8.939699    2.2229285  24.716227 ]\n",
      " [-22.937107    8.939205    2.2215247  24.71751  ]\n",
      " [-22.938814    8.938718    2.2201211  24.718796 ]\n",
      " [-22.940521    8.938226    2.2187238  24.720076 ]\n",
      " [-22.945635    8.936729    2.214559   24.723906 ]\n",
      " [-22.947329    8.936233    2.2131777  24.725176 ]\n",
      " [-22.949026    8.935733    2.2118     24.726448 ]\n",
      " [-22.950722    8.935227    2.2104266  24.727716 ]\n",
      " [-22.952415    8.934727    2.209056   24.728983 ]\n",
      " [-22.954103    8.93422     2.2076914  24.730247 ]\n",
      " [-22.955793    8.933706    2.2063332  24.731508 ]\n",
      " [-22.957481    8.933198    2.204976   24.732769 ]\n",
      " [-22.959164    8.93269     2.2036226  24.734028 ]\n",
      " [-22.960844    8.932175    2.202274   24.735285 ]\n",
      " [-22.962528    8.93166     2.2009292  24.736536 ]\n",
      " [-22.964203    8.931143    2.1995895  24.737787 ]\n",
      " [-22.965881    8.930624    2.198254   24.73904  ]\n",
      " [-22.967554    8.930105    2.196922   24.740286 ]\n",
      " [-22.962528    8.93166     2.2009292  24.736536 ]\n",
      " [-22.964203    8.931143    2.1995895  24.737787 ]\n",
      " [-22.965881    8.930624    2.198254   24.73904  ]\n",
      " [-22.967554    8.930105    2.196922   24.740286 ]\n",
      " [-22.969225    8.929582    2.1955948  24.741533 ]\n",
      " [-22.970898    8.929052    2.1942742  24.742775 ]\n",
      " [-22.972567    8.92853     2.192953   24.744019 ]\n",
      " [-22.97423     8.928008    2.1916363  24.745256 ]\n",
      " [-22.975893    8.927473    2.1903286  24.746494 ]\n",
      " [-22.977554    8.926942    2.189023   24.747732 ]\n",
      " [-22.979216    8.92641     2.1877203  24.748964 ]\n",
      " [-22.980871    8.925876    2.186423   24.750196 ]\n",
      " [-22.98253     8.925334    2.1851318  24.751427 ]\n",
      " [-22.98418     8.924801    2.1838403  24.752653 ]\n",
      " [-22.979216    8.92641     2.1877203  24.748964 ]\n",
      " [-22.980871    8.925876    2.186423   24.750196 ]\n",
      " [-22.98253     8.925334    2.1851318  24.751427 ]\n",
      " [-22.98418     8.924801    2.1838403  24.752653 ]\n",
      " [-22.98583     8.924262    2.1825566  24.753878 ]\n",
      " [-22.98748     8.923719    2.181276   24.7551   ]\n",
      " [-22.98253     8.925334    2.1851318  24.751427 ]\n",
      " [-22.98418     8.924801    2.1838403  24.752653 ]\n",
      " [-22.98583     8.924262    2.1825566  24.753878 ]\n",
      " [-22.98748     8.923719    2.181276   24.7551   ]\n",
      " [-22.989128    8.923177    2.1799994  24.756323 ]\n",
      " [-22.990776    8.9226265   2.1787302  24.75754  ]\n",
      " [-22.992414    8.922083    2.177462   24.758759 ]\n",
      " [-22.994053    8.921538    2.1761968  24.759974 ]\n",
      " [-22.995695    8.920984    2.17494    24.761187 ]\n",
      " [-22.997332    8.92043     2.173687   24.762396 ]\n",
      " [-22.998966    8.919879    2.1724367  24.763607 ]\n",
      " [-23.000597    8.919328    2.171189   24.764814 ]\n",
      " [-22.995695    8.920984    2.17494    24.761187 ]\n",
      " [-22.997332    8.92043     2.173687   24.762396 ]\n",
      " [-22.998966    8.919879    2.1724367  24.763607 ]\n",
      " [-23.000597    8.919328    2.171189   24.764814 ]\n",
      " [-23.002228    8.918764    2.1699514  24.766016 ]\n",
      " [-23.003859    8.918206    2.1687148  24.76722  ]\n",
      " [-22.998966    8.919879    2.1724367  24.763607 ]\n",
      " [-23.000597    8.919328    2.171189   24.764814 ]\n",
      " [-23.002228    8.918764    2.1699514  24.766016 ]\n",
      " [-23.003859    8.918206    2.1687148  24.76722  ]\n",
      " [-23.005487    8.917644    2.1674824  24.76842  ]\n",
      " [-23.007109    8.91708     2.1662557  24.76962  ]\n",
      " [-23.00873     8.916514    2.165033   24.770815 ]]\n"
     ]
    }
   ],
   "source": [
    "print(pytplot.data_quants[\"mms1_fgm_r_gsm_brst_l2\"].values/6378.14)"
   ]
  },
  {
   "cell_type": "code",
   "execution_count": null,
   "id": "b323d506-5c37-4c0f-a909-8ce800b3a4bb",
   "metadata": {},
   "outputs": [],
   "source": []
  }
 ],
 "metadata": {
  "kernelspec": {
   "display_name": "pyspedas [~/.conda/envs/pyspedas/]",
   "language": "python",
   "name": "conda_pyspedas"
  },
  "language_info": {
   "codemirror_mode": {
    "name": "ipython",
    "version": 3
   },
   "file_extension": ".py",
   "mimetype": "text/x-python",
   "name": "python",
   "nbconvert_exporter": "python",
   "pygments_lexer": "ipython3",
   "version": "3.7.16"
  }
 },
 "nbformat": 4,
 "nbformat_minor": 5
}
