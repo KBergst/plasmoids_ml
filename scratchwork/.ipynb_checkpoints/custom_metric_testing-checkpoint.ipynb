{
 "cells": [
  {
   "cell_type": "code",
   "execution_count": null,
   "id": "southeast-season",
   "metadata": {},
   "outputs": [],
   "source": [
    "import numpy as np  # to use these methods on tensorflow tensors (converted to np arrays)\n",
    "import tensorflow as tf\n",
    "from tensorflow import keras\n",
    "from sklearn.preprocessing import OneHotEncoder\n",
    "#  get metric generator function from other notebook\n",
    "%run /tigress/kendrab/analysis-notebooks/metrics.ipynb"
   ]
  },
  {
   "cell_type": "code",
   "execution_count": null,
   "id": "indirect-pattern",
   "metadata": {},
   "outputs": [],
   "source": [
    "train = np.array([1,2,1,3,1,2,1,1,0,1,1,2,1,1,2,3,0,1])\n",
    "pred = np.array([0,2,0,3,0,2,0,0,0,0,0,2,0,0,0,0,0,0])\n",
    "tf_train_oh = tf.convert_to_tensor(keras.utils.to_categorical(train))\n",
    "tf_pred_oh = tf.convert_to_tensor(keras.utils.to_categorical(pred))\n",
    "print(type(tf_train_oh))"
   ]
  },
  {
   "cell_type": "code",
   "execution_count": null,
   "id": "satisfied-astrology",
   "metadata": {},
   "outputs": [],
   "source": [
    "\"\"\" Test case: no selected category, no mask\"\"\"\n",
    "metric_fn = gen_metric_per_cat()\n",
    "print(metric_fn(tf_train_oh, tf_train_oh))\n",
    "print(metric_fn(tf_train_oh, tf_pred_oh))\n",
    "\n",
    "\"\"\" Test case: every selected category, no mask\"\"\"\n",
    "for i in range(tf_train_oh.shape[-1]):\n",
    "    metric_fn = gen_metric_per_cat(cat_idx = i)\n",
    "    print(metric_fn(tf_train_oh, tf_train_oh))\n",
    "    print(metric_fn(tf_train_oh, tf_pred_oh))"
   ]
  }
 ],
 "metadata": {
  "kernelspec": {
   "display_name": "Python 3",
   "language": "python",
   "name": "python3"
  },
  "language_info": {
   "codemirror_mode": {
    "name": "ipython",
    "version": 3
   },
   "file_extension": ".py",
   "mimetype": "text/x-python",
   "name": "python",
   "nbconvert_exporter": "python",
   "pygments_lexer": "ipython3",
   "version": "3.7.9"
  }
 },
 "nbformat": 4,
 "nbformat_minor": 5
}
