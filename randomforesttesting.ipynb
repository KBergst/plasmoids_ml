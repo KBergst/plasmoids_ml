{
 "cells": [
  {
   "cell_type": "markdown",
   "id": "frozen-williams",
   "metadata": {},
   "source": [
    "### Imports ###"
   ]
  },
  {
   "cell_type": "code",
   "execution_count": 1,
   "id": "competitive-journey",
   "metadata": {},
   "outputs": [],
   "source": [
    "import numpy as np\n",
    "import matplotlib.pyplot as plt\n",
    "\n",
    "from sklearn.datasets import make_classification \n",
    "from sklearn.model_selection import train_test_split\n",
    "from sklearn.ensemble import RandomForestClassifier"
   ]
  },
  {
   "cell_type": "markdown",
   "id": "radical-springfield",
   "metadata": {},
   "source": [
    "## Random forest classifier with scikit-learn provided data, to understand its function ##"
   ]
  },
  {
   "cell_type": "markdown",
   "id": "periodic-prevention",
   "metadata": {},
   "source": [
    "### Making multiclass test data and splitting it up ###"
   ]
  },
  {
   "cell_type": "code",
   "execution_count": 173,
   "id": "manufactured-petite",
   "metadata": {},
   "outputs": [
    {
     "name": "stdout",
     "output_type": "stream",
     "text": [
      "full: (200, 20) (200,)\n",
      "train: (150, 20) (150,)\n",
      "test: (50, 20) (50,)\n"
     ]
    }
   ],
   "source": [
    "X,y = make_classification(n_samples=200, n_informative = 7, n_classes=4)  # 3 class classification problem with 100 samples each with 20 features\n",
    "print('full:', X.shape, y.shape)\n",
    "\n",
    "\n",
    "X_train, X_test, y_train, y_test = train_test_split(X, y, random_state=26)\n",
    "print('train:', X_train.shape, y_train.shape)\n",
    "print('test:', X_test.shape, y_test.shape)"
   ]
  },
  {
   "cell_type": "markdown",
   "id": "divided-jurisdiction",
   "metadata": {},
   "source": [
    "### Making and training the random forest classifier ###"
   ]
  },
  {
   "cell_type": "code",
   "execution_count": 174,
   "id": "lonely-deadline",
   "metadata": {},
   "outputs": [
    {
     "data": {
      "text/plain": [
       "RandomForestClassifier(n_estimators=1000, random_state=0)"
      ]
     },
     "execution_count": 174,
     "metadata": {},
     "output_type": "execute_result"
    }
   ],
   "source": [
    "clf = RandomForestClassifier(n_estimators=1000, random_state=0)\n",
    "clf.fit(X_train, y_train)"
   ]
  },
  {
   "cell_type": "markdown",
   "id": "elect-thomson",
   "metadata": {},
   "source": [
    "### Test the classifier and report the results ###"
   ]
  },
  {
   "cell_type": "code",
   "execution_count": 175,
   "id": "spoken-healing",
   "metadata": {},
   "outputs": [
    {
     "name": "stdout",
     "output_type": "stream",
     "text": [
      "0.8\n"
     ]
    }
   ],
   "source": [
    "score = clf.score(X_test, y_test)\n",
    "print(score)"
   ]
  },
  {
   "cell_type": "markdown",
   "id": "improved-venice",
   "metadata": {},
   "source": [
    "## Testing creating 1d data out of 2d sim data and aggregating it ##"
   ]
  },
  {
   "cell_type": "code",
   "execution_count": null,
   "id": "continent-certificate",
   "metadata": {},
   "outputs": [],
   "source": []
  }
 ],
 "metadata": {
  "kernelspec": {
   "display_name": "Python 3",
   "language": "python",
   "name": "python3"
  },
  "language_info": {
   "codemirror_mode": {
    "name": "ipython",
    "version": 3
   },
   "file_extension": ".py",
   "mimetype": "text/x-python",
   "name": "python",
   "nbconvert_exporter": "python",
   "pygments_lexer": "ipython3",
   "version": "3.7.9"
  }
 },
 "nbformat": 4,
 "nbformat_minor": 5
}
