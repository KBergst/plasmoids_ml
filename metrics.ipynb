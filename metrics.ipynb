{
 "cells": [
  {
   "cell_type": "markdown",
   "id": "intimate-admission",
   "metadata": {},
   "source": [
    "## Metrics\n",
    "I'll put any custom-made metrics here, for storage."
   ]
  },
  {
   "cell_type": "code",
   "execution_count": null,
   "id": "indonesian-bridges",
   "metadata": {},
   "outputs": [],
   "source": [
    "import sys\n",
    "import numpy as np  # to use these methods on tensorflow tensors (converted to np arrays)\n",
    "import tensorflow as tf"
   ]
  },
  {
   "cell_type": "code",
   "execution_count": 3,
   "id": "foreign-token",
   "metadata": {},
   "outputs": [],
   "source": [
    "def refresh(obj):\n",
    "    try:\n",
    "        obj.reset_state()\n",
    "    except:\n",
    "        pass\n",
    "    try:\n",
    "        obj.reset_states()\n",
    "    except:\n",
    "        pass"
   ]
  },
  {
   "cell_type": "markdown",
   "id": "hollywood-donna",
   "metadata": {},
   "source": [
    "### Generator function to handle masked sequential data"
   ]
  },
  {
   "cell_type": "code",
   "execution_count": 2,
   "id": "another-template",
   "metadata": {},
   "outputs": [
    {
     "ename": "NameError",
     "evalue": "name 'tf' is not defined",
     "output_type": "error",
     "traceback": [
      "\u001b[0;31m---------------------------------------------------------------------------\u001b[0m",
      "\u001b[0;31mNameError\u001b[0m                                 Traceback (most recent call last)",
      "\u001b[0;32m<ipython-input-2-073dca7cf422>\u001b[0m in \u001b[0;36m<module>\u001b[0;34m\u001b[0m\n\u001b[0;32m----> 1\u001b[0;31m \u001b[0;32mdef\u001b[0m \u001b[0mgen_metric_per_cat\u001b[0m\u001b[0;34m(\u001b[0m\u001b[0mmetric_fn\u001b[0m\u001b[0;34m=\u001b[0m\u001b[0mtf\u001b[0m\u001b[0;34m.\u001b[0m\u001b[0mkeras\u001b[0m\u001b[0;34m.\u001b[0m\u001b[0mmetrics\u001b[0m\u001b[0;34m.\u001b[0m\u001b[0mCategoricalAccuracy\u001b[0m\u001b[0;34m(\u001b[0m\u001b[0;34m)\u001b[0m\u001b[0;34m,\u001b[0m \u001b[0mmask_layer\u001b[0m\u001b[0;34m=\u001b[0m\u001b[0;32mNone\u001b[0m\u001b[0;34m,\u001b[0m \u001b[0mcat_idx\u001b[0m \u001b[0;34m=\u001b[0m \u001b[0;32mNone\u001b[0m\u001b[0;34m)\u001b[0m\u001b[0;34m:\u001b[0m\u001b[0;34m\u001b[0m\u001b[0;34m\u001b[0m\u001b[0m\n\u001b[0m\u001b[1;32m      2\u001b[0m     \"\"\"\n\u001b[1;32m      3\u001b[0m     \u001b[0mA\u001b[0m \u001b[0mgenerator\u001b[0m \u001b[0mfunction\u001b[0m \u001b[0;32mfor\u001b[0m \u001b[0mseries\u001b[0m\u001b[0;31m'\u001b[0m \u001b[0mof\u001b[0m \u001b[0mdatapoints\u001b[0m \u001b[0mthat\u001b[0m \u001b[0mreturns\u001b[0m \u001b[0ma\u001b[0m \u001b[0mmetric\u001b[0m\u001b[0;34m\u001b[0m\u001b[0;34m\u001b[0m\u001b[0m\n\u001b[1;32m      4\u001b[0m     \u001b[0mwhich\u001b[0m \u001b[0mtakes\u001b[0m \u001b[0minto\u001b[0m \u001b[0maccount\u001b[0m \u001b[0ma\u001b[0m \u001b[0mmask\u001b[0m \u001b[0mof\u001b[0m \u001b[0mthe\u001b[0m \u001b[0minputs\u001b[0m\u001b[0;34m\u001b[0m\u001b[0;34m\u001b[0m\u001b[0m\n\u001b[1;32m      5\u001b[0m \u001b[0;34m\u001b[0m\u001b[0m\n",
      "\u001b[0;31mNameError\u001b[0m: name 'tf' is not defined"
     ]
    }
   ],
   "source": [
    "def gen_metric_per_cat(metric_fn=tf.keras.metrics.CategoricalAccuracy(), mask_layer=None, cat_idx = None):\n",
    "    \"\"\"\n",
    "    A generator function for series' of datapoints that returns a metric\n",
    "    which takes into account a mask of the inputs\n",
    "    \n",
    "    Parameters\n",
    "    ----------\n",
    "    metric_fn : metric-type class object\n",
    "        metric to use per each caetegory\n",
    "    mask_layer : layer.Masking object\n",
    "        masking layer used to throw out padding datapoints\n",
    "    cat_idx : integer, default None\n",
    "        Sets a particular category to be returned rather than an average of all\n",
    "    \n",
    "    Returns\n",
    "    -------\n",
    "    metric_per_pt : function\n",
    "        The generated metric taking into account the values of metric and mask_layer\n",
    "    \"\"\"\n",
    "    \n",
    "    def metric_per_cat(y_true, y_pred):\n",
    "        \"\"\"\n",
    "        A metric for a series of datapoints, each of which needs its own separate evaluation.\n",
    "\n",
    "        Parameters\n",
    "        ----------\n",
    "        y_true: tensorflow tensor of shape (batch size, series length, num_categories)\n",
    "            The true values to compare with. For datapoint in the series,\n",
    "            the category information should be one-hot encoded\n",
    "            SHOULD BE MASKED AS PER MASK_LAYER'S EXPECTATIONS\n",
    "        y_pred: tensorflow tensor of shape (batch size, series length, num_categories)\n",
    "            The predicted values. For datapoint in the series,\n",
    "            the category information should be expressed in probabilities (fractions of 1)    \n",
    "\n",
    "        Returns\n",
    "        -------\n",
    "        metric_sum: tensorflow tensor of shape (num_categories,)\n",
    "            The metric, averaged over the number of categories returned\n",
    "\n",
    "        \"\"\"\n",
    "        eps = np.finfo(float).eps  # to avoid div by zero\n",
    "        # batch or series, who cares\n",
    "        num_cat = y_true.shape[-1]\n",
    "        yf_true = y_true.numpy().reshape(-1,num_cat)\n",
    "        yf_pred = y_pred.numpy().reshape(-1, num_cat)\n",
    "        num_per_cat = [max(np.sum(yf_true[:,i] == 1), eps) for i in range(num_cat)]  # protect agst div by 0\n",
    "\n",
    "        if cat_idx is not None:  # only calcuate metric for this single category\n",
    "            num_per_cat = num_per_cat[cat_idx]\n",
    "            metric_sum = 0\n",
    "            \n",
    "            if mask_layer is not None:\n",
    "                mask = mask_layer.compute_mask(yf_true)\n",
    "                y_t = tf.boolean_mask(yf_true, mask)\n",
    "                y_p = tf.boolean_mask(yf_pred, mask)\n",
    "                for true, pred in zip(y_t, y_p):  # iterates along first axis\n",
    "                    refresh(metric_fn)\n",
    "                    success = (true[cat_idx] != 0) and (metric_fn(true,pred) == 1)  # 1 indicates success\n",
    "                    metric_sum += float(success)/num_per_cat \n",
    "            else:\n",
    "                for true, pred in zip(yf_true, yf_pred):\n",
    "                    refresh(metric_fn)\n",
    "                    success = (true[cat_idx] != 0) and (metric_fn(true,pred) == 1)  # 1 indicates success\n",
    "                    metric_sum += float(success)/num_per_cat    \n",
    "            return metric_sum\n",
    "        \n",
    "\n",
    "        metrics = np.zeros(shape=(num_cat,))\n",
    "        if mask_layer is not None:\n",
    "            mask = mask_layer.compute_mask(yf_true)\n",
    "            y_t = tf.boolean_mask(yf_true, mask)\n",
    "            y_p = tf.boolean_mask(yf_pred, mask)\n",
    "            for true, pred in zip(y_t, y_p):  # iterates along first axis\n",
    "                for i in range(num_cat): # this is a huge mess\n",
    "                    refresh(metric_fn)\n",
    "                    success = (true[i] != 0) and (metric_fn(true,pred) == 1)  # 1 indicates success\n",
    "                    metrics[i] += float(success)/num_per_cat[i]\n",
    "        else:\n",
    "            for true, pred in zip(yf_true, yf_pred):\n",
    "                for i in range(num_cat): # this is a huge mess\n",
    "                    refresh(metric_fn)\n",
    "                    success = (true[i] != 0) and (metric_fn(true,pred) == 1)  # 1 indicates success\n",
    "\n",
    "                    metrics[i] += float(success)/num_per_cat[i]\n",
    "        metric_sum = np.sum(metrics)/num_cat # ranges from 0 to 1\n",
    "        return metric_sum\n",
    "    metric_per_cat.__name__ = 'metric_per_cat_'+str(cat_idx)\n",
    "    return metric_per_cat"
   ]
  },
  {
   "cell_type": "code",
   "execution_count": null,
   "id": "caring-century",
   "metadata": {},
   "outputs": [],
   "source": []
  }
 ],
 "metadata": {
  "kernelspec": {
   "display_name": "Python 3",
   "language": "python",
   "name": "python3"
  },
  "language_info": {
   "codemirror_mode": {
    "name": "ipython",
    "version": 3
   },
   "file_extension": ".py",
   "mimetype": "text/x-python",
   "name": "python",
   "nbconvert_exporter": "python",
   "pygments_lexer": "ipython3",
   "version": "3.7.9"
  }
 },
 "nbformat": 4,
 "nbformat_minor": 5
}
