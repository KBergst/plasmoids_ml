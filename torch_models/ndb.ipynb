{
 "cells": [
  {
   "cell_type": "code",
   "execution_count": 61,
   "id": "52190566-bcd4-4fa4-b812-4e0cef15adb8",
   "metadata": {},
   "outputs": [],
   "source": [
    "# for calculating NDB score\n",
    "# https://arxiv.org/pdf/1805.12462"
   ]
  },
  {
   "cell_type": "code",
   "execution_count": 62,
   "id": "6b792b12-c849-4836-9313-5e747c7d8346",
   "metadata": {},
   "outputs": [],
   "source": [
    "import torchinfo\n",
    "import torch\n",
    "from torch import nn\n",
    "from torch.utils.data import TensorDataset, DataLoader\n",
    "from  torch.nn.functional import one_hot\n",
    "from sklearn.cluster import KMeans\n",
    "from sklearn.metrics import silhouette_score\n",
    "import numpy as np\n",
    "from numpy.random import default_rng\n",
    "import matplotlib.pyplot as plt\n",
    "import copy\n",
    "import os\n",
    "from torchvision.models.feature_extraction import create_feature_extractor"
   ]
  },
  {
   "cell_type": "code",
   "execution_count": 63,
   "id": "6eb9a669-baf4-4d84-b43c-8c3060df5071",
   "metadata": {},
   "outputs": [
    {
     "name": "stdout",
     "output_type": "stream",
     "text": [
      "Using cpu device\n"
     ]
    }
   ],
   "source": [
    "device = \"cuda\" if torch.cuda.is_available() else \"mps\" if torch.backends.mps.is_available() else \"cpu\"\n",
    "print(f\"Using {device} device\")\n",
    "dtype = torch.double\n",
    "\n",
    "%run /tigress/kendrab/analysis-notebooks/preproc_utils.ipynb\n",
    "%run /tigress/kendrab/analysis-notebooks/torch_models/import_mms_data.ipynb"
   ]
  },
  {
   "cell_type": "code",
   "execution_count": null,
   "id": "34a5416e-3c4c-454f-a5dd-1ba992ddb7d1",
   "metadata": {},
   "outputs": [],
   "source": []
  },
  {
   "cell_type": "markdown",
   "id": "fe6a7821-0ecf-4004-8660-941b85d04fc7",
   "metadata": {
    "tags": []
   },
   "source": [
    "### Default models"
   ]
  },
  {
   "cell_type": "code",
   "execution_count": 64,
   "id": "6addd8a4-7c8e-42c8-a9cc-5c7e0d7957ea",
   "metadata": {},
   "outputs": [],
   "source": [
    "# determine necessary hyperparameters by looking at the log for that ADDA run\n",
    "class MMSFeatExtract(nn.Module): #TODO: strided convolution instead of pooling?\n",
    "    \"\"\" 1D CNN Model \"\"\"\n",
    "    def __init__(self, mms_num_conv, mms_kp_limit, mms_kernel_size, mms_pool_size, mms_out_channels, mms_learning_rate, mms_dropout_fraction, feat_shape):\n",
    "        super().__init__()\n",
    "        # define these all separately because they will get different weights\n",
    "        # consider smooshing these together into one convolution with in_channels=6. Idk if a good idea\n",
    "        feat_shape_nobatch = feat_shape[1:]\n",
    "        self.bx_layers = nn.Sequential(*repeat_layers_n_times([nn.LazyConv1d(mms_out_channels, mms_kernel_size, padding='valid'),\n",
    "                                           nn.LeakyReLU(), nn.AvgPool1d(mms_pool_size), nn.Dropout(p=mms_dropout_fraction)], mms_num_conv))\n",
    "        self.by_layers = nn.Sequential(*repeat_layers_n_times([nn.LazyConv1d(mms_out_channels, mms_kernel_size, padding='valid'),\n",
    "                                           nn.LeakyReLU(), nn.AvgPool1d(mms_pool_size), nn.Dropout(p=mms_dropout_fraction)], mms_num_conv))\n",
    "        self.bz_layers = nn.Sequential(*repeat_layers_n_times([nn.LazyConv1d(mms_out_channels, mms_kernel_size, padding='valid'),\n",
    "                                           nn.LeakyReLU(), nn.AvgPool1d(mms_pool_size), nn.Dropout(p=mms_dropout_fraction)], mms_num_conv))\n",
    "        self.ex_layers = nn.Sequential(*repeat_layers_n_times([nn.LazyConv1d(mms_out_channels, mms_kernel_size, padding='valid'),\n",
    "                                           nn.LeakyReLU(), nn.AvgPool1d(mms_pool_size), nn.Dropout(p=mms_dropout_fraction)], mms_num_conv))\n",
    "        self.ey_layers = nn.Sequential(*repeat_layers_n_times([nn.LazyConv1d(mms_out_channels, mms_kernel_size, padding='valid'),\n",
    "                                           nn.LeakyReLU(), nn.AvgPool1d(mms_pool_size), nn.Dropout(p=mms_dropout_fraction)], mms_num_conv))\n",
    "        self.ez_layers = nn.Sequential(*repeat_layers_n_times([nn.LazyConv1d(mms_out_channels, mms_kernel_size, padding='valid'),\n",
    "                                           nn.LeakyReLU(), nn.AvgPool1d(mms_pool_size), nn.Dropout(p=mms_dropout_fraction)], mms_num_conv))\n",
    "        self.jy_layers = nn.Sequential(*repeat_layers_n_times([nn.LazyConv1d(mms_out_channels, mms_kernel_size, padding='valid'),\n",
    "                                           nn.LeakyReLU(), nn.AvgPool1d(mms_pool_size), nn.Dropout(p=mms_dropout_fraction)], mms_num_conv))\n",
    "        \n",
    "        self.post_merge_layers = nn.Sequential(nn.Conv1d(mms_out_channels, mms_out_channels*2, mms_kernel_size,\n",
    "                                                         padding='valid'),\n",
    "                                               nn.LeakyReLU(),\n",
    "                                               nn.AvgPool1d(mms_pool_size))\n",
    "        self.resize_features = nn.Sequential(nn.Flatten(), nn.LazyLinear(np.prod(feat_shape_nobatch)), nn.Unflatten(-1, feat_shape_nobatch))\n",
    "                                               \n",
    "\n",
    "    def forward(self, bx, by, bz, ex, ey, ez, jy):\n",
    "        bx_proc = self.bx_layers(bx)\n",
    "        by_proc = self.by_layers(by)\n",
    "        bz_proc = self.bz_layers(bz)\n",
    "        ex_proc = self.ex_layers(ex)\n",
    "        ey_proc = self.ey_layers(ey)\n",
    "        ez_proc = self.ez_layers(ez)\n",
    "        jy_proc = self.jy_layers(jy)\n",
    "        combined = (bx_proc + by_proc + bz_proc + ex_proc + ey_proc + ez_proc + jy_proc)/6.\n",
    "        mms_features = self.post_merge_layers(combined)\n",
    "        features = self.resize_features(mms_features)\n",
    "        \n",
    "        return features"
   ]
  },
  {
   "cell_type": "code",
   "execution_count": 65,
   "id": "0a2394c2-fe48-4f96-9164-73c1f893c9f0",
   "metadata": {},
   "outputs": [],
   "source": [
    "class MMSModel(nn.Module):\n",
    "    def __init__(self, feat_extract, classifier):\n",
    "        super().__init__()\n",
    "        self.feat_extract = feat_extract\n",
    "        self.classifier = classifier\n",
    "\n",
    "    def forward(self, bx, by, bz, ex, ey, ez, jy):\n",
    "        features = self.feat_extract(bx, by, bz, ex, ey, ez, jy)\n",
    "        logits = self.classifier(features)\n",
    "        return logits"
   ]
  },
  {
   "cell_type": "markdown",
   "id": "d7103c11-ac80-4913-b411-c2a37be09102",
   "metadata": {},
   "source": [
    "### Helper functions"
   ]
  },
  {
   "cell_type": "code",
   "execution_count": 66,
   "id": "35726f74-6f0a-4601-b372-bac17f268c2d",
   "metadata": {},
   "outputs": [],
   "source": [
    "def n_samples_k_files(files, n, seed=98345093450793):\n",
    "    # get n samples from k different files\n",
    "    # return array of length len(files) of the number of samples from each file\n",
    "    \n",
    "    # construct probability dist for the files for uniform choice over the samples\n",
    "    files_sizes = []\n",
    "    \n",
    "    for file in files:\n",
    "        files_sizes.append(os.path.getsize(file))\n",
    "    files_dist = np.array(files_sizes)/np.sum(files_sizes)\n",
    "    \n",
    "    sampler = default_rng(seed=seed)\n",
    "    \n",
    "    sample_names = sampler.choice(files, size=n, replace=True, p=files_dist)\n",
    "    sample_freqs_tuple = np.unique(sample_names, return_counts=True)\n",
    "    sample_freqs_dict = dict(zip(*sample_freqs_tuple))\n",
    "   \n",
    "    return sample_freqs_dict\n",
    "    "
   ]
  },
  {
   "cell_type": "code",
   "execution_count": null,
   "id": "8e9a9812-276b-47a5-9ca2-cfeb6606a4d5",
   "metadata": {},
   "outputs": [],
   "source": [
    "def get_mms_samples(full_mms_filenames, num_samples=10000, seed = 153925340):\n",
    "    ''' splitting this part off of get_mms_features so we can access it separately\n",
    "    dont always want to calc features right away'''\n",
    "    mms_sample_counts = n_samples_k_files(full_mms_filenames, n=n)\n",
    "    \n",
    "    # get the samples\n",
    "    samples_dict = {}\n",
    "    sampler = default_rng(seed=seed)\n",
    "\n",
    "    for file in full_mms_filenames:\n",
    "        num_samples = mms_sample_counts.get(file, 0)  # if not specified assume 0 samples needed\n",
    "        if num_samples == 0:  # taking no samples\n",
    "            continue\n",
    "        mms_data_dict = get_mms_data(file, folder=\"\") \n",
    "        idxs_len = mms_data_dict['time'].shape[0]\n",
    "        sample_idxs = sampler.choice(idxs_len, size=num_samples, replace=False)\n",
    "        # slim down data to the chosen indices\n",
    "        for label, data in mms_data_dict.items():\n",
    "            samples = data[sample_idxs,...]\n",
    "            if label not in samples_dict:\n",
    "                samples_dict[label] = samples\n",
    "            else:\n",
    "                samples_dict[label] = np.concatenate([samples_dict[label], samples], axis=0)      \n",
    "    \n",
    "    return samples_dict"
   ]
  },
  {
   "cell_type": "code",
   "execution_count": 67,
   "id": "49352b42-b982-4001-8e74-197919617b29",
   "metadata": {},
   "outputs": [],
   "source": [
    "def get_mms_features(feature_extractor = None, seed = 60923507239, n = 10000, mms_data_loc = '/tigress/kendrab/analysis-notebooks/mms_data/mms_slices/',\n",
    "                    mms_classifier_path = \"/tigress/kendrab/analysis-notebooks/model_outs/20-09-24/adda_ndb190550_95mms_classifier_statedict.tar\",\n",
    "                    hyperparams = (1,9,3,4,40,0.0012094769607738786,0.03457536835651724,[11, 72, 3]), all_classifier = None):\n",
    "\n",
    "    # set up the model\n",
    "    if feature_extractor is None:  # use default\n",
    "        if all_classifier is None:  # need to specify an all_classifier if using default model\n",
    "            raise ValueError(\"feature_extractor and all_classifier cannot both be None, please specify one or the other.\")\n",
    "        feature_extractor = MMSFeatExtract(*hyperparams)  # yay magic hyperparameters\n",
    "        mms_classifier = MMSModel(feature_extractor, all_classifier).to(device=device, dtype=dtype) \n",
    "        mms_classifier.load_state_dict(torch.load(mms_classifier_path))  # loads for feature_extractor too yayyyyy\n",
    "\n",
    "    mms_filenames = get_filenames()\n",
    "    full_mms_filenames = [mms_data_loc + filename for filename in mms_filenames]\n",
    "    mms_sample_counts = n_samples_k_files(full_mms_filenames, n=n)        \n",
    "        \n",
    "    # get the samples\n",
    "    samples_dict = {}\n",
    "    sampler = default_rng(seed=seed)\n",
    "\n",
    "    for file in full_mms_filenames:\n",
    "        num_samples = mms_sample_counts.get(file, 0)  # if not specified assume 0 samples needed\n",
    "        if num_samples == 0:  # taking no samples\n",
    "            continue\n",
    "        mms_data_dict = get_mms_data(file, folder=\"\") \n",
    "        idxs_len = mms_data_dict['time'].shape[0]\n",
    "        sample_idxs = sampler.choice(idxs_len, size=num_samples, replace=False)\n",
    "        # slim down data to the chosen indices\n",
    "        for label, data in mms_data_dict.items():\n",
    "            samples = data[sample_idxs,...]\n",
    "            if label not in samples_dict:\n",
    "                samples_dict[label] = samples\n",
    "            else:\n",
    "                samples_dict[label] = np.concatenate([samples_dict[label], samples], axis=0)\n",
    "                \n",
    "    # get those featuressssssssssssssssss\n",
    "    bx = torch.from_numpy(samples_dict['B'][:,0:1,:]).to(device, dtype=dtype)\n",
    "    by = torch.from_numpy(samples_dict['B'][:,1:2,:]).to(device, dtype=dtype)\n",
    "    bz = torch.from_numpy(samples_dict['B'][:,2:3,:]).to(device, dtype=dtype)\n",
    "    ex = torch.from_numpy(samples_dict['E'][:,0:1,:]).to(device, dtype=dtype)\n",
    "    ey = torch.from_numpy(samples_dict['E'][:,1:2,:]).to(device, dtype=dtype)\n",
    "    ez = torch.from_numpy(samples_dict['E'][:,2:3,:]).to(device, dtype=dtype)\n",
    "    jy = torch.from_numpy(samples_dict['j'][:,1:2,:]).to(device, dtype=dtype)\n",
    "    features = feature_extractor.forward(bx, by, bz, ex, ey, ez, jy)\n",
    "    \n",
    "    return features, feature_extractor\n"
   ]
  },
  {
   "cell_type": "code",
   "execution_count": 68,
   "id": "09ac09ce-b9e4-419a-88cc-190575c2567b",
   "metadata": {},
   "outputs": [],
   "source": [
    "def get_sim_models():  # this is mostly hard coded garbage specific to this one model but OH WELL\n",
    "    %run /tigress/kendrab/analysis-notebooks/torch_models/import_model.ipynb\n",
    "    sim_classifier = model.to(device=device, dtype=dtype)  # more illuminating name\n",
    "    # extract the classifier and feature extractor parts\n",
    "    return_nodes = {'post_merge_layers.2' : 'features'}\n",
    "    feature_extractor = create_feature_extractor(model, return_nodes=return_nodes)    \n",
    "    all_classifier = nn.Sequential(*list(sim_classifier.children())[-1][-2:])\n",
    "    models = {'feature_extractor':feature_extractor,'all_classifier':all_classifier}\n",
    "    \n",
    "    return models"
   ]
  },
  {
   "cell_type": "code",
   "execution_count": 69,
   "id": "a2a6fe8d-8b09-42b6-831d-de2d60e2cc2f",
   "metadata": {},
   "outputs": [],
   "source": [
    "def get_sim_features(feature_extractor = None, samples = None, n = 10000):\n",
    "    # samples is a tensordataset with all the stuff in it\n",
    "    # get feature extractor\n",
    "    if feature_extractor is None:  # default\n",
    "        feature_extractor = get_sim_models()['feature_extractor']\n",
    "    # get samples\n",
    "    if samples is None:\n",
    "        %run /tigress/kendrab/analysis-notebooks/torch_models/import_sim_data.ipynb\n",
    "        _, _, bx, by, bz, ex, ey, ez, jy, _, _, _ = next(iter(sim_dl))\n",
    "    else:\n",
    "        _, _, bx, by, bz, ex, ey, ez, jy, _, _, _ = samples\n",
    "    # get features\n",
    "    features = feature_extractor(bx, by, bz, ex, ey, ez, jy)\n",
    "    \n",
    "    return features"
   ]
  },
  {
   "cell_type": "code",
   "execution_count": 70,
   "id": "55d2a613-19de-4cea-8096-a7b25b02caff",
   "metadata": {},
   "outputs": [],
   "source": [
    "def kmeans_optimizing_plot(data, max_clusters=200, min_clusters=2, step=2, seed=1230958,\n",
    "                    outfile=\"/tigress/kendrab/analysis-notebooks/model_outs/scratchwork/kmeans_silhouette.svg\"):\n",
    "    n_list = [i for i in range(min_clusters, max_clusters+1,step)]\n",
    "    elbow_scores=[]\n",
    "    silhouette_scores=[]\n",
    "    for n_clusters in n_list:\n",
    "        kmeans = KMeans(n_clusters=n_clusters, random_state=seed, n_init=\"auto\")\n",
    "        kmeans.fit(data)\n",
    "        elbow_scores.append(kmeans.inertia_)\n",
    "        silhouette_scores.append(silhouette_score(data,kmeans.predict(data)))\n",
    "    fig, ax = plt.subplots()\n",
    "    ax.plot(n_list, silhouette_scores)    \n",
    "    ax.set(title='Silhouette scores for k-means clustering', xlabel='number of clusters', ylabel='silhouette score')\n",
    "    fig.tight_layout()\n",
    "    fig.savefig(outfile)"
   ]
  },
  {
   "cell_type": "code",
   "execution_count": 71,
   "id": "796df26f-8265-44fe-8456-392455ec0c87",
   "metadata": {},
   "outputs": [],
   "source": [
    "def sample_prop(target_label, labels):\n",
    "    P = np.sum(labels == target_label)/len(labels)\n",
    "    return P"
   ]
  },
  {
   "cell_type": "code",
   "execution_count": 72,
   "id": "478ef07e-38ec-4540-a499-b6cc41bcba22",
   "metadata": {},
   "outputs": [],
   "source": [
    "def P_standard_error(P_pooled, n_p, n_q):\n",
    "    # as in the ndb paper, for pooled sample proportion P_pooled\n",
    "    se = np.sqrt(P_pooled*(1 - P_pooled)*(1/n_p + 1/n_q))\n",
    "    return se"
   ]
  },
  {
   "cell_type": "code",
   "execution_count": 73,
   "id": "35dfd470-12a1-4a8c-981c-e6cfdc854e40",
   "metadata": {},
   "outputs": [],
   "source": [
    "def z_score(P_p, P_q, se):\n",
    "    # pulled out for less typos hopefully\n",
    "    z = np.abs(P_p - P_q)/se\n",
    "    return z"
   ]
  },
  {
   "cell_type": "code",
   "execution_count": 74,
   "id": "0b80cb10-c65d-4c67-a685-5b83516275c8",
   "metadata": {},
   "outputs": [],
   "source": [
    "def ndb_score(sim_features_flat, mms_features_flat, n_clusters=25, seed=1230958, threshold=1.96, kmeans_kwargs={'n_init':'auto'}):\n",
    "    # calculate some things\n",
    "    n_sim = sim_features_flat.shape[0]\n",
    "    n_mms = mms_features_flat.shape[0]\n",
    "    # get the predictions\n",
    "    n_diff_bins = 0\n",
    "    kmeans = KMeans(n_clusters=n_clusters, random_state=seed, **kmeans_kwargs)\n",
    "    sim_labels = kmeans.fit_predict(sim_features_flat)\n",
    "    mms_labels = kmeans.predict(mms_features_flat)\n",
    "    pooled_labels = np.concatenate([sim_labels, mms_labels])\n",
    "    # calculate per bin z-score\n",
    "    for bin_label in range(n_clusters):\n",
    "        P_pooled = sample_prop(bin_label, pooled_labels)\n",
    "        se = P_standard_error(P_pooled, n_sim, n_mms)\n",
    "        P_sim = sample_prop(bin_label, sim_labels)\n",
    "        P_mms = sample_prop(bin_label, mms_labels)\n",
    "        print(P_sim, P_mms)\n",
    "        z = z_score(P_sim, P_mms, se)\n",
    "        if z > threshold:\n",
    "            n_diff_bins +=1\n",
    "            print(f\"Bin number {bin_label} found statistically different \"+\n",
    "                  f\"with z-score {z} > {threshold}\")\n",
    "        else:\n",
    "            print(f\"Bin number {bin_label} found statistically similar \"+\n",
    "                  f\"with z-score {z} < {threshold}\")\n",
    "    score = n_diff_bins/n_clusters\n",
    "    return score"
   ]
  },
  {
   "cell_type": "markdown",
   "id": "a7af42a8-2865-4489-8af8-1827a756e1e9",
   "metadata": {
    "tags": []
   },
   "source": [
    "### Main"
   ]
  },
  {
   "cell_type": "code",
   "execution_count": 75,
   "id": "b5faf1c8-8512-4e99-9e73-b9f945d8bd14",
   "metadata": {
    "tags": []
   },
   "outputs": [
    {
     "name": "stderr",
     "output_type": "stream",
     "text": [
      "/home/kendrab/.conda/envs/torch-env/lib/python3.11/site-packages/torch/nn/modules/lazy.py:180: UserWarning: Lazy modules are a new feature under heavy development so changes to the API or functionality can happen at any moment.\n",
      "  warnings.warn('Lazy modules are a new feature under heavy development '\n",
      "/home/kendrab/.conda/envs/torch-env/lib/python3.11/site-packages/torch/nn/modules/lazy.py:180: UserWarning: Lazy modules are a new feature under heavy development so changes to the API or functionality can happen at any moment.\n",
      "  warnings.warn('Lazy modules are a new feature under heavy development '\n"
     ]
    },
    {
     "name": "stdout",
     "output_type": "stream",
     "text": [
      "(425291, 1, 89)\n",
      "(425291, 2, 11)\n",
      "torch.float64\n",
      "torch.Size([10000, 72, 3])\n",
      "torch.Size([10000, 72, 3])\n",
      "torch.Size([10000, 216])\n",
      "torch.Size([10000, 216])\n",
      "Bin number 0 found statistically different with z-score 47.1535455582544 > 1.96\n",
      "Bin number 1 found statistically different with z-score 25.75823366238392 > 1.96\n",
      "Bin number 2 found statistically different with z-score 49.50980455410315 > 1.96\n",
      "Bin number 3 found statistically different with z-score 127.30026172556371 > 1.96\n",
      "Bin number 4 found statistically different with z-score 71.84692232688542 > 1.96\n",
      "1.0\n"
     ]
    },
    {
     "data": {
      "image/png": "[encoded data removed]",
      "text/plain": [
       "<Figure size 640x480 with 1 Axes>"
      ]
     },
     "metadata": {},
     "output_type": "display_data"
    }
   ],
   "source": [
    "if __name__ == '__main__' and '__file__' not in globals():  # do not run if %run from another notebook\n",
    "    n = 10000\n",
    "    override_batch_size = True\n",
    "    sim_models = get_sim_models()\n",
    "    all_classifier = sim_models['all_classifier']\n",
    "\n",
    "    mms_features, _ = get_mms_features(all_classifier=all_classifier, n=n, mms_classifier_path = \"/tigress/kendrab/analysis-notebooks/model_outs/26-09-24/adda_ndb142201_0mms_classifier_statedict.tar\")\n",
    "    sim_features = get_sim_features(n=n)[\"features\"]  # needed for get_feature_extractor case\n",
    "    print(mms_features.shape)\n",
    "    print(sim_features.shape)\n",
    "\n",
    "    mms_features_flat = torch.flatten(mms_features, start_dim=1).detach()\n",
    "    sim_features_flat = torch.flatten(sim_features, start_dim=1).detach()\n",
    "    print(mms_features_flat.shape)\n",
    "    print(sim_features_flat.shape)\n",
    "\n",
    "    #### K-means cluster number optimizing\n",
    "\n",
    "    # # look at knee plot to see how many clusters to use\n",
    "    kmeans_optimizing_plot(sim_features_flat)\n",
    "\n",
    "    #### NDB finding\n",
    "\n",
    "    score = ndb_score(sim_features_flat, mms_features_flat, n_clusters=5, seed=62352358, threshold=1.96)\n",
    "    print(score)"
   ]
  },
  {
   "cell_type": "code",
   "execution_count": null,
   "id": "87ee1d7b-db43-4c55-af33-bdfdde15cbcc",
   "metadata": {},
   "outputs": [],
   "source": []
  },
  {
   "cell_type": "code",
   "execution_count": null,
   "id": "936ccd7d-84ad-4386-b460-97b1d90da815",
   "metadata": {},
   "outputs": [],
   "source": []
  },
  {
   "cell_type": "code",
   "execution_count": null,
   "id": "6f141ff0-62d5-4ef1-80ce-9cdc798cd2f0",
   "metadata": {},
   "outputs": [],
   "source": []
  }
 ],
 "metadata": {
  "kernelspec": {
   "display_name": "torch-env [~/.conda/envs/torch-env/]",
   "language": "python",
   "name": "conda_torch-env"
  },
  "language_info": {
   "codemirror_mode": {
    "name": "ipython",
    "version": 3
   },
   "file_extension": ".py",
   "mimetype": "text/x-python",
   "name": "python",
   "nbconvert_exporter": "python",
   "pygments_lexer": "ipython3",
   "version": "3.11.5"
  }
 },
 "nbformat": 4,
 "nbformat_minor": 5
}
