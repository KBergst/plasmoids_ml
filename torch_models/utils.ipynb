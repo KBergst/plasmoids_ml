{
 "cells": [
  {
   "cell_type": "code",
   "execution_count": null,
   "id": "2aeddad9-9a4d-43b6-a565-1c498e35cf92",
   "metadata": {},
   "outputs": [],
   "source": [
    "# to put random stuff in."
   ]
  },
  {
   "cell_type": "code",
   "execution_count": null,
   "id": "eb06731c-6103-4e1e-befc-eb1eb9aaaba0",
   "metadata": {},
   "outputs": [],
   "source": [
    "def iter_or_restart_dl(dataloader, dataloader_iterator):\n",
    "    \"\"\"For when you want to iterate through a dataloader a set number of times, starting over when necessary.\n",
    "    Credit to srossi's comment on the pytorch github issue #1917\"\"\"\n",
    "    try:\n",
    "        data = next(dataloader_iterator)\n",
    "    except StopIteration:  # uh oh we reached the end\n",
    "        print(\"restarting an iterator\")\n",
    "        dataloader_iterator = iter(dataloader)  # so let's start over\n",
    "        data = next(dataloader_iterator)\n",
    "    \n",
    "    return data, dataloader_iterator"
   ]
  },
  {
   "cell_type": "code",
   "execution_count": null,
   "id": "99d1cd6f-88a9-4e30-9f74-caec55cec769",
   "metadata": {},
   "outputs": [],
   "source": [
    "# taken from https://pytorch.org/tutorials/beginner/dcgan_faces_tutorial.html to use gaussian weights\n",
    "def weights_init(m):\n",
    "    classname = m.__class__.__name__\n",
    "    if classname.find('Conv') != -1:\n",
    "        nn.init.normal_(m.weight.data, 0.0, 0.02)"
   ]
  }
 ],
 "metadata": {
  "kernelspec": {
   "display_name": "Python 3 (ipykernel)",
   "language": "python",
   "name": "python3"
  },
  "language_info": {
   "codemirror_mode": {
    "name": "ipython",
    "version": 3
   },
   "file_extension": ".py",
   "mimetype": "text/x-python",
   "name": "python",
   "nbconvert_exporter": "python",
   "pygments_lexer": "ipython3",
   "version": "3.10.9"
  }
 },
 "nbformat": 4,
 "nbformat_minor": 5
}
