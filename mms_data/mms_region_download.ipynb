{
 "cells": [
  {
   "cell_type": "markdown",
   "id": "30dc4987-69dd-47cd-9763-ac1801194b8f",
   "metadata": {},
   "source": [
    "### Only for downloading data bc it is being a bitch and crashing after 30min"
   ]
  },
  {
   "cell_type": "code",
   "execution_count": 1,
   "id": "5b5f9cf9-2937-4eb8-9221-2cf97c393f39",
   "metadata": {},
   "outputs": [],
   "source": [
    "import pyspedas\n",
    "import pytplot\n",
    "import numpy as np\n",
    "import h5py\n",
    "import datetime as dt\n",
    "from IPython.display import clear_output\n",
    "import os\n",
    "import sys  # for debugging\n",
    "import psutil\n",
    "os.environ[\"MMS_DATA_DIR\"] = \"/tigress/kendrab/analysis-notebooks/mms_data/pydata/\""
   ]
  },
  {
   "cell_type": "markdown",
   "id": "fb3ee046-7d49-450e-a821-f7d4f8958cc8",
   "metadata": {},
   "source": [
    "### Read in the tail region times created by mms_region_to_time.ipynb"
   ]
  },
  {
   "cell_type": "code",
   "execution_count": 2,
   "id": "8df2d86b-be18-4627-a9d9-f8d6ceaa4bda",
   "metadata": {},
   "outputs": [],
   "source": [
    "with h5py.File('interval_times.h5', 'r') as file:\n",
    "    # this is split into two separate lines for readability\n",
    "    times = file['times'][()]  # get the list of times\n",
    "    times = np.vectorize(lambda x: x.decode())(times)  # decode the times"
   ]
  },
  {
   "cell_type": "markdown",
   "id": "54fb2604-ca2e-4fb1-b2cf-77e96d839e15",
   "metadata": {},
   "source": [
    "### Download the files"
   ]
  },
  {
   "cell_type": "code",
   "execution_count": null,
   "id": "ae6fc48b-7c2f-4498-b20b-cd61ce572fa6",
   "metadata": {
    "scrolled": true,
    "tags": []
   },
   "outputs": [
    {
     "name": "stdout",
     "output_type": "stream",
     "text": [
      "No internet connection!\n",
      "Searching for local files...\n",
      "No matching CDF versions found.\n",
      "No fpi data for ['2015-04-05/05:57:00' '2015-04-05/08:09:00']\n",
      "No internet connection!\n",
      "Searching for local files...\n",
      "No matching CDF versions found.\n",
      "No fpi data for ['2015-04-06/05:25:30' '2015-04-06/08:39:00']\n",
      "No internet connection!\n",
      "Searching for local files...\n",
      "No matching CDF versions found.\n",
      "No fpi data for ['2015-04-07/05:02:30' '2015-04-07/09:00:00']\n",
      "No internet connection!\n",
      "Searching for local files...\n",
      "No matching CDF versions found.\n",
      "No fpi data for ['2015-04-08/04:43:00' '2015-04-08/09:17:00']\n",
      "No internet connection!\n",
      "Searching for local files...\n",
      "No matching CDF versions found.\n",
      "No fpi data for ['2015-04-09/04:26:30' '2015-04-09/09:31:00']\n"
     ]
    }
   ],
   "source": [
    "for i in range(times.shape[0]):\n",
    "    # times in format \"YYYY-MM-DD/hh:mm:ss\"    \n",
    "    pyspedas.mms.fpi(trange=times[i], probe='1', data_rate='brst', datatype='des-moms',\n",
    "                                varnames=[\"asdfjasdfjasdlgkaj\"]) \n",
    "# avoid downloading data where we don't have fpi data\n",
    "# not because we are using FPI but because we are running out of storage space and 2016 is too much\n",
    "    filepath = [f\"/tigress/kendrab/analysis-notebooks/mms_data/pydata/mms1/fpi/brst/l2/des-moms/{times[i,0][0:4]}/{times[i,0][5:7]}/{times[i,0][8:10]}\",\n",
    "                f\"/tigress/kendrab/analysis-notebooks/mms_data/pydata/mms1/fpi/brst/l2/des-moms/{times[i,1][0:4]}/{times[i,1][5:7]}/{times[i,1][8:10]}\"]\n",
    "    if not (os.path.isdir(filepath[0]) or os.path.isdir(filepath[1])):\n",
    "        print(f\"No fpi data for {times[i]}\")\n",
    "        continue\n",
    "        \n",
    "    for j in range(1,5):\n",
    "        pyspedas.mms.fgm(trange=times[i], probe=str(j), data_rate='brst',\n",
    "                                    varnames=[\"asdlfjasdlkfjsldkkd\"]) \n",
    "        \n",
    "        # avoid downloading data where we don't have fgm data\n",
    "        filepath = [f\"/tigress/kendrab/analysis-notebooks/mms_data/pydata/mms{j}/fgm/brst/l2/{times[i,0][0:4]}/{times[i,0][5:7]}/{times[i,0][8:10]}\",\n",
    "                    f\"/tigress/kendrab/analysis-notebooks/mms_data/pydata/mms{j}/fgm/brst/l2/{times[i,1][0:4]}/{times[i,1][5:7]}/{times[i,1][8:10]}\"]\n",
    "        if not (os.path.isdir(filepath[0]) or os.path.isdir(filepath[1])):\n",
    "            print(f\"No fgm data for {times[i]}, mms {j}\")\n",
    "            continue     \n",
    "    pyspedas.mms.edp(trange=times[i], probe='1', data_rate='brst',\n",
    "                                varnames=[\"alsdkfjssldkkfjf\"])\n",
    "    print(psutil.virtual_memory())\n",
    "    print(psutil.disk_usage(\"/tigress/kendrab/analysis-notebooks/mms_data/\"))\n",
    "    if (i % 15 == 14):\n",
    "        clear_output(wait=True)\n",
    "        print(f\"Cleared output at step {i}\")"
   ]
  },
  {
   "cell_type": "code",
   "execution_count": null,
   "id": "fc7fb4a7-9f70-462a-819e-ff12ee81786f",
   "metadata": {},
   "outputs": [],
   "source": []
  }
 ],
 "metadata": {
  "kernelspec": {
   "display_name": "pyspedas [~/.conda/envs/pyspedas/]",
   "language": "python",
   "name": "conda_pyspedas"
  },
  "language_info": {
   "codemirror_mode": {
    "name": "ipython",
    "version": 3
   },
   "file_extension": ".py",
   "mimetype": "text/x-python",
   "name": "python",
   "nbconvert_exporter": "python",
   "pygments_lexer": "ipython3",
   "version": "3.7.16"
  }
 },
 "nbformat": 4,
 "nbformat_minor": 5
}
