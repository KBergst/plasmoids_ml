{
 "cells": [
  {
   "cell_type": "markdown",
   "id": "indoor-restriction",
   "metadata": {},
   "source": [
    "### This is an attempt at making an ipynb and then running it via a batch script yayyyyy"
   ]
  },
  {
   "cell_type": "code",
   "execution_count": 2,
   "id": "recent-monte",
   "metadata": {},
   "outputs": [
    {
     "name": "stdout",
     "output_type": "stream",
     "text": [
      "[1 2 3 4]\n",
      "This is output\n"
     ]
    }
   ],
   "source": [
    "import numpy as np\n",
    "a = np.array([1,2,3,4])\n",
    "print(a)\n",
    "print(\"This is output\")"
   ]
  },
  {
   "cell_type": "markdown",
   "id": "dressed-speech",
   "metadata": {},
   "source": [
    "### Now let's attempt running tensorflow on Traverse!"
   ]
  },
  {
   "cell_type": "code",
   "execution_count": null,
   "id": "caroline-beatles",
   "metadata": {},
   "outputs": [],
   "source": [
    "import numpy as np\n",
    "import tensorflow as tf\n",
    "from tensorflow import keras\n",
    "from tensorflow.keras import layers\n",
    "import pyvpic\n",
    "print(dir(pyvpic))"
   ]
  },
  {
   "cell_type": "code",
   "execution_count": null,
   "id": "available-discovery",
   "metadata": {},
   "outputs": [],
   "source": [
    "# # Define Sequential model with 3 layers\n",
    "# model = keras.Sequential(\n",
    "#     [\n",
    "#         layers.Dense(2, activation=\"relu\", name=\"layer1\"),\n",
    "#         layers.Dense(3, activation=\"relu\", name=\"layer2\"),\n",
    "#         layers.Dense(4, name=\"layer3\"),\n",
    "#     ]\n",
    "# )\n",
    "# # Call model on a test input\n",
    "# x = tf.ones((3, 3))\n",
    "# y = model(x)\n",
    "# model.summary()"
   ]
  },
  {
   "cell_type": "markdown",
   "id": "geological-rally",
   "metadata": {},
   "source": [
    "### Now let's make sure it's actually using the GPU!"
   ]
  },
  {
   "cell_type": "code",
   "execution_count": null,
   "id": "impressive-phoenix",
   "metadata": {},
   "outputs": [],
   "source": [
    "with tf.device('/gpu:0'):\n",
    "    a = tf.constant([1.0, 2.0, 3.0, 4.0, 5.0, 6.0], shape=[2, 3], name='a')\n",
    "    b = tf.constant([1.0, 2.0, 3.0, 4.0, 5.0, 6.0], shape=[3, 2], name='b')\n",
    "    c = tf.matmul(a, b)\n",
    "\n",
    "print(c)"
   ]
  }
 ],
 "metadata": {
  "kernelspec": {
   "display_name": "Python 3",
   "language": "python",
   "name": "python3"
  },
  "language_info": {
   "codemirror_mode": {
    "name": "ipython",
    "version": 3
   },
   "file_extension": ".py",
   "mimetype": "text/x-python",
   "name": "python",
   "nbconvert_exporter": "python",
   "pygments_lexer": "ipython3",
   "version": "3.7.9"
  }
 },
 "nbformat": 4,
 "nbformat_minor": 5
}
