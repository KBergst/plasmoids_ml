{
 "cells": [
  {
   "cell_type": "markdown",
   "id": "functioning-works",
   "metadata": {},
   "source": [
    "## Let's see how what I did last year does\n",
    "Specifically on space slices, spacetime can come later"
   ]
  },
  {
   "cell_type": "code",
   "execution_count": 1,
   "id": "metropolitan-vision",
   "metadata": {},
   "outputs": [],
   "source": [
    "import importlib  # I need to use this because some idiot put dashes in their directory name\n",
    "ms = importlib.import_module(\"mms-structure-finder.mmsstructs\")\n",
    "ma = importlib.import_module(\"mms-structure-finder.mmsarrays\")\n",
    "import h5py\n",
    "import numpy as np\n",
    "from dataframework.src.datasets.dataset import Dataset  # generic\n",
    "import matplotlib.pyplot as plt"
   ]
  },
  {
   "cell_type": "markdown",
   "id": "religious-playing",
   "metadata": {},
   "source": [
    "### Import some data"
   ]
  },
  {
   "cell_type": "code",
   "execution_count": 2,
   "id": "corresponding-vector",
   "metadata": {},
   "outputs": [],
   "source": [
    "# TODO use command line args or someting easier than throwing it here\n",
    "# TODO put this into my datasets this is terrible too many lists\n",
    "readpaths = ['/tigress/kendrab/03082021/'+\"20samples_idx31_bxbybzjyvz.hdf5\"]\n",
    "bx_list = []\n",
    "vz_list = []\n",
    "jy_list = []\n",
    "topo_list = []\n",
    "s_list = []  # effective 'time'\n",
    "dir_list = []  # 'direction' of the 'relative z velocity' of the plasma vs the spacecraft\n",
    "\n",
    "for filepath in readpaths:\n",
    "    file = h5py.File(filepath, 'r')\n",
    "    bx_list += list(file['bx_smooth'][:])\n",
    "    vz_list += list(file['vz'][:])\n",
    "    jy_list += list(file['jy'][:])\n",
    "    topo_list += list(file['topo'][:])  # doesn't need one-hot for this\n",
    "    s_list += list(file['s'][:])\n",
    "    unit_vecs = np.stack(file['unit_vec'][:], axis=0)\n",
    "    dir_list += list(-1*np.sign(unit_vecs[:,1]))\n",
    "    file.close()   "
   ]
  },
  {
   "cell_type": "markdown",
   "id": "changed-vacation",
   "metadata": {},
   "source": [
    "### Do the full analysis pipeline for each slice, saving certain attributes"
   ]
  },
  {
   "cell_type": "code",
   "execution_count": 3,
   "id": "fifty-southeast",
   "metadata": {},
   "outputs": [
    {
     "ename": "NameError",
     "evalue": "name 'cs_angle' is not defined",
     "output_type": "error",
     "traceback": [
      "\u001b[0;31m---------------------------------------------------------------------------\u001b[0m",
      "\u001b[0;31mNameError\u001b[0m                                 Traceback (most recent call last)",
      "\u001b[0;32m<ipython-input-3-11df33ccb1ad>\u001b[0m in \u001b[0;36m<module>\u001b[0;34m\u001b[0m\n\u001b[1;32m      7\u001b[0m \u001b[0;34m\u001b[0m\u001b[0m\n\u001b[1;32m      8\u001b[0m \u001b[0;31m# to save\u001b[0m\u001b[0;34m\u001b[0m\u001b[0;34m\u001b[0m\u001b[0;34m\u001b[0m\u001b[0m\n\u001b[0;32m----> 9\u001b[0;31m \u001b[0mcs_angle\u001b[0m\u001b[0;34m\u001b[0m\u001b[0;34m\u001b[0m\u001b[0m\n\u001b[0m\u001b[1;32m     10\u001b[0m \u001b[0;34m\u001b[0m\u001b[0m\n\u001b[1;32m     11\u001b[0m \u001b[0;31m# FOOOOOOOOOOOOR LOOOOOOOOOOOOOOOOOOOOP\u001b[0m\u001b[0;34m\u001b[0m\u001b[0;34m\u001b[0m\u001b[0;34m\u001b[0m\u001b[0m\n",
      "\u001b[0;31mNameError\u001b[0m: name 'cs_angle' is not defined"
     ]
    }
   ],
   "source": [
    "# Parameters to use\n",
    "gap_time = np.inf  # not needed for non-spacecraft data\n",
    "width = 10\n",
    "min_height = 0\n",
    "quality_min = 0.5\n",
    "colors = {0:\"black\", 1:\"green\", 2:\"red\", 3:\"yellow\", -1:\"blue\"} \n",
    "\n",
    "\n",
    "# FOOOOOOOOOOOOR LOOOOOOOOOOOOOOOOOOOOP\n",
    "for j, (bx, vz, jy, s, topo) in enumerate(zip(bx_list, vz_list, jy_list, s_list, topo_list)):\n",
    "    fig, ax = plt.subplots()\n",
    "    ax.plot(s, bx)\n",
    "    indices = ms.find_crossings(bx, s, gap_time)\n",
    "    bx_dirs = ms.find_crossing_signs(bx, indices)\n",
    "    cleaned_indices, cleaned_dirs = indices, bx_dirs\n",
    "    struct_idxs, struct_times = ms.structure_extent(bx, indices, s, bx_dirs, width, min_height)\n",
    "    for i in range(len(indices)):\n",
    "        v_sign = dir_list[j]\n",
    "        v_qual = 1\n",
    "        jy_sign, jy_qual = ma.find_avg_signs(jy[struct_idxs[i][0]:struct_idxs[i][1]])        \n",
    "        crossing_type,type_flag=ms.structure_classification(bx_dirs[i],\n",
    "                                                        v_sign,v_qual,jy_sign,\n",
    "                                                        jy_qual,quality_min)\n",
    "        if type_flag == 0:  # plasmoid\n",
    "            struct_topo = 1\n",
    "        elif type_flag in [1,2]:  # some flavor of current sheet\n",
    "            struct_topo = 2\n",
    "        elif type_flag == 3:  # low quality, no determination\n",
    "            struct_topo = 0\n",
    "        else:  # doesn't fit in\n",
    "            struct_topo = -1\n",
    "\n",
    "        # plot algorithm results\n",
    "        ax.fill_between(s, 0.25, 0.75, where=np.logical_and(s[struct_idxs[i][0]] < s, s < s[struct_idxs[i][1]]), \n",
    "                        color=colors[struct_topo], alpha=0.3)\n",
    "        acc = topo[struct_idxs[i][0]:struct_idxs[i][1]] == struct_topo\n",
    "        print(j, np.average(acc), struct_topo)\n",
    "        print(jy_sign)\n",
    "    # plot true results\n",
    "    ax.fill_between(s, 0, 1, where=topo == 1,  # plasmoids\n",
    "                    color=colors[1], alpha=0.1, transform=ax.get_xaxis_transform())\n",
    "    ax.fill_between(s, 0, 1, where=topo == 2,  # current sheets\n",
    "                    color=colors[2], alpha=0.1, transform=ax.get_xaxis_transform())\n",
    "    ax.fill_between(s, 0, 1, where=topo == 3,  # both\n",
    "                    color=colors[3], alpha=0.1, transform=ax.get_xaxis_transform())\n",
    "    plt.show()\n",
    "    plt.close(fig='all')\n",
    "    "
   ]
  },
  {
   "cell_type": "markdown",
   "id": "southwest-cameroon",
   "metadata": {},
   "source": [
    "### Analyze the results"
   ]
  },
  {
   "cell_type": "code",
   "execution_count": null,
   "id": "complete-martin",
   "metadata": {},
   "outputs": [],
   "source": [
    "# Angle from the CS\n",
    "# Miscat\n",
    "# X point?\n",
    "# Nonlocal detection?"
   ]
  }
 ],
 "metadata": {
  "kernelspec": {
   "display_name": "Python 3",
   "language": "python",
   "name": "python3"
  },
  "language_info": {
   "codemirror_mode": {
    "name": "ipython",
    "version": 3
   },
   "file_extension": ".py",
   "mimetype": "text/x-python",
   "name": "python",
   "nbconvert_exporter": "python",
   "pygments_lexer": "ipython3",
   "version": "3.7.9"
  }
 },
 "nbformat": 4,
 "nbformat_minor": 5
}
