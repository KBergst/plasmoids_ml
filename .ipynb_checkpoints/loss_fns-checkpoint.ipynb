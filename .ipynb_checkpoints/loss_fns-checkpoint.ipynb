{
 "cells": [
  {
   "cell_type": "markdown",
   "id": "medieval-vitamin",
   "metadata": {},
   "source": [
    "## Loss functions\n",
    "Going to put any custom loss functions I need to make over the course of building models for this research here. If it gets to be too many, I'll keep them in separate notebooks."
   ]
  },
  {
   "cell_type": "code",
   "execution_count": null,
   "id": "changed-applicant",
   "metadata": {},
   "outputs": [],
   "source": [
    "import sys\n",
    "import tensorflow as tf\n",
    "from tensorflow.keras.losses import CategoricalCrossentropy"
   ]
  },
  {
   "cell_type": "code",
   "execution_count": null,
   "id": "about-foundation",
   "metadata": {},
   "outputs": [],
   "source": [
    "def refresh(obj):  # clear the state of the loss function / metric if it holds onto it for some damn reason\n",
    "    try:\n",
    "        obj.reset_state()\n",
    "        print('reset state')\n",
    "    except:\n",
    "        pass\n",
    "    try:\n",
    "        obj.reset_states()\n",
    "        print('reset state')\n",
    "    except:\n",
    "        pass"
   ]
  },
  {
   "cell_type": "markdown",
   "id": "atmospheric-russell",
   "metadata": {},
   "source": [
    "### CategoricalCrossEntropy for each point in a series"
   ]
  },
  {
   "cell_type": "code",
   "execution_count": null,
   "id": "boring-elizabeth",
   "metadata": {},
   "outputs": [],
   "source": [
    "def catcrossentropy_per_pt(y_true, y_pred):\n",
    "    \"\"\"\n",
    "    A metric for a series of datapoints, each of which needs classification.\n",
    "    \n",
    "    Parameters\n",
    "    ----------\n",
    "    y_true: tensorflow tensor of shape (batch size, series length, num_categories)\n",
    "        The true values to compare with. For datapoint in the series,\n",
    "        the category information should be one-hot encoded\n",
    "    y_pred: tensorflow tensor of shape (batch size, series length, num_categories)\n",
    "        The predicted values. For datapoint in the series,\n",
    "        the category information should be expressed in probabilities (fractions of 1)    \n",
    "    \n",
    "    Returns\n",
    "    -------\n",
    "    loss: tensorflow tensor of shape (1,)\n",
    "        The categorical cross entropy for each datapoint in each series, summed\n",
    "\n",
    "    \"\"\"\n",
    "    \n",
    "    loss_fn = CategoricalCrossentropy()\n",
    "    \n",
    "    losses = tf.zeros(shape=(1,))\n",
    "\n",
    "    for i in range(int(tf.shape(y_true)[1])):  # loop over every datapoint in the series\n",
    "        loss = loss_fn(y_true[:,i,:], y_pred[:,i,:])\n",
    "        losses += loss\n",
    "        \n",
    "    losses /= int(tf.shape(y_true)[1])\n",
    "    \n",
    "    return losses"
   ]
  },
  {
   "cell_type": "markdown",
   "id": "disabled-lexington",
   "metadata": {},
   "source": [
    "### generator function to handle masked sequential data"
   ]
  },
  {
   "cell_type": "code",
   "execution_count": null,
   "id": "focused-newsletter",
   "metadata": {},
   "outputs": [],
   "source": [
    "def gen_loss_per_pt(loss_fn=CategoricalCrossentropy(), mask_layer=None):\n",
    "    \"\"\"\n",
    "    A generator function for series' of datapoints that returns a loss function\n",
    "    which takes into account a mask of the inputs\n",
    "    \n",
    "    Parameters\n",
    "    ----------\n",
    "    loss_fn : loss-type class object\n",
    "        loss function to use per each data point\n",
    "    mask_layer : layer.Masking object\n",
    "        masking layer used to throw out padding datapoints\n",
    "    \n",
    "    Returns\n",
    "    -------\n",
    "    loss_per_pt : function\n",
    "        The generated loss function taking into account the values of loss_fn and mask_layer\n",
    "    \"\"\"\n",
    "    \n",
    "    def loss_per_pt(y_true, y_pred):\n",
    "        \"\"\"\n",
    "        A metric for a series of datapoints, each of which needs its own separate evaluation.\n",
    "\n",
    "        Parameters\n",
    "        ----------\n",
    "        y_true: tensorflow tensor of shape (batch size, series length, num_categories)\n",
    "            The true values to compare with. For datapoint in the series,\n",
    "            the category information should be one-hot encoded\n",
    "            SHOULD BE MASKED AS PER MASK_LAYER'S EXPECTATIONS\n",
    "        y_pred: tensorflow tensor of shape (batch size, series length, num_categories)\n",
    "            The predicted values. For datapoint in the series,\n",
    "            the category information should be expressed in probabilities (fractions of 1)    \n",
    "\n",
    "        Returns\n",
    "        -------\n",
    "        loss: tensorflow tensor of shape (1,)\n",
    "            The loss for each datapoint in each series, summed\n",
    "\n",
    "        \"\"\"\n",
    "        losses = tf.zeros(shape=(1,))\n",
    "        n_points = int(tf.shape(y_true)[1])\n",
    "        if mask_layer is not None:\n",
    "            mask = mask_layer.compute_mask(y_true)\n",
    "            for i in range(n_points):  # loop over every datapoint in the series\n",
    "                y_t = tf.boolean_mask(y_true[:,i,:], mask[:,i])\n",
    "                y_p = tf.boolean_mask(y_pred[:,i,:], mask[:,i]) \n",
    "                refresh(loss_fn)\n",
    "                loss = loss_fn(y_t, y_p)\n",
    "                if len(loss) > 1: # fn returned loss for each point\n",
    "                    loss = sum(loss)\n",
    "                losses += loss        \n",
    "        else:\n",
    "            for i in range(n_points):  # loop over every datapoint in the series\n",
    "                refresh(loss_fn)\n",
    "                loss = loss_fn(y_true[:,i,:], y_pred[:,i,:])\n",
    "                if len(loss) > 1:\n",
    "                    loss = sum(loss)\n",
    "                losses += loss\n",
    "        # normalize by number of datapoints\n",
    "        losses /= n_points\n",
    "        \n",
    "        return losses\n",
    "    \n",
    "    return loss_per_pt"
   ]
  }
 ],
 "metadata": {
  "kernelspec": {
   "display_name": "Python 3",
   "language": "python",
   "name": "python3"
  },
  "language_info": {
   "codemirror_mode": {
    "name": "ipython",
    "version": 3
   },
   "file_extension": ".py",
   "mimetype": "text/x-python",
   "name": "python",
   "nbconvert_exporter": "python",
   "pygments_lexer": "ipython3",
   "version": "3.7.9"
  }
 },
 "nbformat": 4,
 "nbformat_minor": 5
}
