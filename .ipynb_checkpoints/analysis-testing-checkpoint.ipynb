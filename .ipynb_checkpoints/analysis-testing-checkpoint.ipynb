{
 "cells": [
  {
   "cell_type": "code",
   "execution_count": 1,
   "id": "removed-being",
   "metadata": {},
   "outputs": [],
   "source": [
    "import numpy as np\n",
    "import pyvpic\n",
    "from dataframework.src.datasets.vpicdataset import VPICDataset\n"
   ]
  },
  {
   "cell_type": "markdown",
   "id": "backed-stable",
   "metadata": {},
   "source": [
    "### Get ex variable using pyvpic directly"
   ]
  },
  {
   "cell_type": "code",
   "execution_count": 2,
   "id": "severe-hughes",
   "metadata": {},
   "outputs": [
    {
     "name": "stdout",
     "output_type": "stream",
     "text": [
      "(18, 2660, 1, 666)\n",
      "(18, 2660, 666)\n"
     ]
    }
   ],
   "source": [
    "datfile = '/tigress/kendrab/01292021/data.h5'\n",
    "viewer = pyvpic.open(datfile)\n",
    "true_ex = np.squeeze(viewer['field/ex'][:])\n",
    "print(viewer['field/ex'][:].shape)\n",
    "print(true_ex.shape)"
   ]
  },
  {
   "cell_type": "markdown",
   "id": "negative-analyst",
   "metadata": {},
   "source": [
    "### Get ex variable using data framework"
   ]
  },
  {
   "cell_type": "code",
   "execution_count": 2,
   "id": "little-charles",
   "metadata": {},
   "outputs": [
    {
     "name": "stdout",
     "output_type": "stream",
     "text": [
      "NO PARAMS ADDED, FUNCTIONALIITY NOT ADDED YET!!!! SORRY\n",
      "Added ex Variable\n",
      "Added ey Variable\n",
      "Added ez Variable\n"
     ]
    }
   ],
   "source": [
    "files = ['/tigress/kendrab/01292021/data.h5','tigress/kendrab/01292021/info']\n",
    "kwargs = {'get_vars' : ['ex','ey','ez']}\n",
    "data_01292021 = VPICDataset(vpicfiles=files, **kwargs)\n",
    "\n",
    "test_ex = data_01292021.variables['ex'].data"
   ]
  },
  {
   "cell_type": "markdown",
   "id": "worth-sight",
   "metadata": {},
   "source": [
    "### Test if they two ex vars are the same (put into unit testing eventually?)"
   ]
  },
  {
   "cell_type": "code",
   "execution_count": 4,
   "id": "endangered-galaxy",
   "metadata": {},
   "outputs": [
    {
     "name": "stdout",
     "output_type": "stream",
     "text": [
      "True\n"
     ]
    }
   ],
   "source": [
    "print(np.all(true_ex == test_ex))"
   ]
  },
  {
   "cell_type": "markdown",
   "id": "engaging-marathon",
   "metadata": {},
   "source": [
    "### Try slicing the data, unittest style"
   ]
  },
  {
   "cell_type": "code",
   "execution_count": 5,
   "id": "korean-chuck",
   "metadata": {},
   "outputs": [],
   "source": [
    "# test the timeslice\n",
    "dset_time = data_01292021.ndslice(timelims=[80,130])\n",
    "print(dset_time.timeseries)\n",
    "print(len(dset_time.timeseries))\n",
    "print(dset_time.variables['ex'].data.shape)"
   ]
  },
  {
   "cell_type": "code",
   "execution_count": 9,
   "id": "small-editing",
   "metadata": {},
   "outputs": [
    {
     "name": "stdout",
     "output_type": "stream",
     "text": [
      "[0.20010286 0.57604318]\n"
     ]
    }
   ],
   "source": [
    "# test the zoom\n",
    "dset_zoom = data_01292021.ndslice(zooms=np.array([[-28, 131], [-39.8, 36.4]]))\n",
    "print(len(dset_zoom.timeseries))\n",
    "print(dset_zoom.default_mesh)\n",
    "print(len(dset_zoom.default_mesh[0]))\n",
    "print(dset_zoom.variables['ex'].data.shape)"
   ]
  },
  {
   "cell_type": "code",
   "execution_count": null,
   "id": "shaped-gambling",
   "metadata": {},
   "outputs": [],
   "source": [
    "# test the spaceslice\n",
    "dset_slice = data_01292021.ndslice(set_pts=[np.array([-28, -39.8]), np.array([131, 36.4])])\n",
    "print(dset_slice.timeseries)\n",
    "print(dset_slice.default_mesh)\n",
    "print(len(dset_slice.timeseries))\n",
    "print(dset_slice.variables['ex'].data.shape)\n"
   ]
  },
  {
   "cell_type": "code",
   "execution_count": 6,
   "id": "excessive-handy",
   "metadata": {},
   "outputs": [
    {
     "data": {
      "text/plain": [
       "method"
      ]
     },
     "execution_count": 6,
     "metadata": {},
     "output_type": "execute_result"
    }
   ],
   "source": [
    "%matplotlib widget\n",
    "\n",
    "import matplotlib.pyplot as plt\n",
    "\n",
    "fig, ax = plt.subplots()\n",
    "ax.plot(newdset.variables['ex'].mesh[0]"
   ]
  },
  {
   "cell_type": "code",
   "execution_count": null,
   "id": "gentle-picking",
   "metadata": {
    "jupyter": {
     "source_hidden": true
    }
   },
   "outputs": [],
   "source": []
  }
 ],
 "metadata": {
  "kernelspec": {
   "display_name": "Python 3",
   "language": "python",
   "name": "python3"
  },
  "language_info": {
   "codemirror_mode": {
    "name": "ipython",
    "version": 3
   },
   "file_extension": ".py",
   "mimetype": "text/x-python",
   "name": "python",
   "nbconvert_exporter": "python",
   "pygments_lexer": "ipython3",
   "version": "3.7.9"
  }
 },
 "nbformat": 4,
 "nbformat_minor": 5
}
