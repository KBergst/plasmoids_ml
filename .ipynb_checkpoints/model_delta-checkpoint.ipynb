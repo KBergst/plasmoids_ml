{
 "cells": [
  {
   "cell_type": "markdown",
   "id": "regulation-feelings",
   "metadata": {},
   "source": [
    "## Simple model using Bx, By, Bz, jy, vz\n",
    " classifications: o_structures, null\n",
    " \n",
    " fixed length timeseries informed by d_per_de ~ 4\n",
    " \n",
    " similar to gamma, but with only plasmoid/non-plasmoid classification"
   ]
  },
  {
   "cell_type": "code",
   "execution_count": null,
   "id": "numerous-walnut",
   "metadata": {},
   "outputs": [
    {
     "ename": "ModuleNotFoundError",
     "evalue": "No module named 'tensorflow'",
     "output_type": "error",
     "traceback": [
      "\u001b[0;31m---------------------------------------------------------------------------\u001b[0m",
      "\u001b[0;31mModuleNotFoundError\u001b[0m                       Traceback (most recent call last)",
      "Cell \u001b[0;32mIn[1], line 5\u001b[0m\n\u001b[1;32m      3\u001b[0m \u001b[38;5;28;01mimport\u001b[39;00m \u001b[38;5;21;01mh5py\u001b[39;00m\n\u001b[1;32m      4\u001b[0m \u001b[38;5;28;01mimport\u001b[39;00m \u001b[38;5;21;01mnumpy\u001b[39;00m \u001b[38;5;28;01mas\u001b[39;00m \u001b[38;5;21;01mnp\u001b[39;00m\n\u001b[0;32m----> 5\u001b[0m \u001b[38;5;28;01mimport\u001b[39;00m \u001b[38;5;21;01mtensorflow\u001b[39;00m \u001b[38;5;28;01mas\u001b[39;00m \u001b[38;5;21;01mtf\u001b[39;00m\n\u001b[1;32m      6\u001b[0m \u001b[38;5;28;01mimport\u001b[39;00m \u001b[38;5;21;01mtensorflow_addons\u001b[39;00m \u001b[38;5;28;01mas\u001b[39;00m \u001b[38;5;21;01mtfa\u001b[39;00m\n\u001b[1;32m      7\u001b[0m \u001b[38;5;28;01mfrom\u001b[39;00m \u001b[38;5;21;01mtensorflow\u001b[39;00m \u001b[38;5;28;01mimport\u001b[39;00m keras\n",
      "\u001b[0;31mModuleNotFoundError\u001b[0m: No module named 'tensorflow'"
     ]
    }
   ],
   "source": [
    "import sys\n",
    "import datetime as dt\n",
    "import h5py\n",
    "import numpy as np\n",
    "import tensorflow as tf\n",
    "import tensorflow_addons as tfa\n",
    "from tensorflow import keras\n",
    "from sklearn.model_selection import train_test_split\n",
    "from sklearn.metrics import confusion_matrix, ConfusionMatrixDisplay\n",
    "from sklearn.utils import shuffle\n",
    "import matplotlib\n",
    "matplotlib.use('svg')\n",
    "import matplotlib.pyplot as plt\n",
    "# get functions from other notebooks\n",
    "%run /tigress/kendrab/analysis-notebooks/loss_fns.ipynb\n",
    "%run /tigress/kendrab/analysis-notebooks/metrics.ipynb\n",
    "%run /tigress/kendrab/analysis-notebooks/preproc_utils.ipynb\n",
    "%run /tigress/kendrab/analysis-notebooks/eval_utils.ipynb\n",
    "start = dt.datetime.now(dt.timezone.utc)  # for timing\n",
    "time_str = start.strftime(\"%H%M%S\")\n",
    "date_str = start.strftime(\"%d-%m-%y\")\n",
    "start_str = date_str + time_str"
   ]
  },
  {
   "cell_type": "markdown",
   "id": "dress-lying",
   "metadata": {},
   "source": [
    "### Assemble a model"
   ]
  },
  {
   "cell_type": "code",
   "execution_count": null,
   "id": "initial-nursery",
   "metadata": {},
   "outputs": [],
   "source": [
    "model_name = \"delta\"\n",
    "# hyperparameters\n",
    "learning_rate = 0.01\n",
    "filters = 32\n",
    "kernel_size = 3\n",
    "pool_size = 2\n",
    "padding_length = 10  # amount of data on each side of each segment for additional info\n",
    "stride = 10  # size (and therefore spacing) of each segment\n",
    "input_length = stride + 2*padding_length\n",
    "epochs = 5\n",
    "thinning_factor = [0.8, None]\n",
    "hyperparams = {'learning_rate':learning_rate, 'filters':filters, 'kernel_size':kernel_size, 'pool_size':pool_size,\n",
    "              'input_length':input_length, 'stride':stride, 'epochs':epochs, 'thinning_factor':thinning_factor}\n",
    "\n",
    "# input\n",
    "bx_input = keras.Input(shape=(input_length,1), name=\"bx\") \n",
    "by_input = keras.Input(shape=(input_length,1), name=\"by\") \n",
    "bz_input = keras.Input(shape=(input_length,1), name=\"bz\") \n",
    "jy_input = keras.Input(shape=(input_length,1), name=\"jy\") \n",
    "vz_input = keras.Input(shape=(input_length,1), name=\"vz\") \n",
    "\n",
    "\n",
    "# convolve and pool separately\n",
    "bx_conv = keras.layers.Conv1D(filters=filters, kernel_size=kernel_size, padding='valid', activation='relu')(bx_input)\n",
    "by_conv = keras.layers.Conv1D(filters=filters, kernel_size=kernel_size, padding='valid', activation='relu')(by_input)\n",
    "bz_conv = keras.layers.Conv1D(filters=filters, kernel_size=kernel_size, padding='valid', activation='relu')(bz_input)\n",
    "jy_conv = keras.layers.Conv1D(filters=filters, kernel_size=kernel_size, padding='valid', activation='relu')(jy_input)\n",
    "vz_conv = keras.layers.Conv1D(filters=filters, kernel_size=kernel_size, padding='valid', activation='relu')(vz_input)\n",
    "\n",
    "bx_pool = keras.layers.MaxPooling1D(pool_size=pool_size)(bx_conv)\n",
    "by_pool = keras.layers.MaxPooling1D(pool_size=pool_size)(by_conv)\n",
    "bz_pool = keras.layers.MaxPooling1D(pool_size=pool_size)(bz_conv)\n",
    "jy_pool = keras.layers.MaxPooling1D(pool_size=pool_size)(jy_conv)\n",
    "vz_pool = keras.layers.MaxPooling1D(pool_size=pool_size)(vz_conv)\n",
    "\n",
    "# merge the layers together\n",
    "avg = keras.layers.Average()([bx_pool, by_pool, bz_pool, jy_pool, vz_pool])\n",
    "# convolve and pool\n",
    "avg_conv = keras.layers.Conv1D(filters=2*filters, kernel_size=kernel_size, padding='valid', activation='relu')(avg)\n",
    "avg_pool = keras.layers.MaxPooling1D(pool_size=2)(avg_conv)\n",
    "\n",
    "\n",
    "# use dense layer to output\n",
    "flat_pool = keras.layers.Flatten()(avg_pool)\n",
    "flat_logits = keras.layers.Dense(stride*2, activation='relu')(flat_pool)\n",
    "logits = keras.layers.Reshape((stride, 2))(flat_logits)\n",
    "probs = keras.layers.Softmax()(logits)\n",
    "# throw together the model\n",
    "model = keras.Model(\n",
    "    inputs=[bx_input, by_input, bz_input, jy_input, vz_input],\n",
    "    outputs=[probs])\n",
    "\n",
    "# show the model\n",
    "model.summary()\n",
    "keras.utils.plot_model(model, \"/scratch/gpfs/kendrab/model_\"+model_name+\".png\", show_shapes=True)"
   ]
  },
  {
   "cell_type": "markdown",
   "id": "wicked-throw",
   "metadata": {},
   "source": [
    "### Get 1d sampling (If training/testing only, not building!)\n",
    "Generated by [1d_sampling](./1d_sampling.ipynb)"
   ]
  },
  {
   "cell_type": "code",
   "execution_count": null,
   "id": "fleet-guidance",
   "metadata": {},
   "outputs": [],
   "source": [
    "# TODO use command line args or someting easier than throwing it here\n",
    "basedir = '/tigress/kendrab/21032023/'\n",
    "readpaths = []\n",
    "\n",
    "for i in range(10):\n",
    "    totdir = basedir+str(i)+'/'\n",
    "    for j in range(5,60,5):\n",
    "        readpaths.append(totdir+f\"100samples_idx{j}_bxbybzjyvz.hdf5\")\n",
    "\n",
    "idx_list = []  # to keep track of which file what sample came from\n",
    "s_list = []\n",
    "bx_list = []\n",
    "by_list = []\n",
    "bz_list = []\n",
    "jy_list = []\n",
    "vz_list = []\n",
    "x0_list = []\n",
    "x1_list = []\n",
    "topo_list = []\n",
    "\n",
    "train_idx = None\n",
    "\n",
    "for idx, filepath in enumerate(readpaths):\n",
    "    with h5py.File(filepath, 'r') as file:\n",
    "        idx_list += [np.array([idx for i in bx]) for bx in file['bx_smooth'][:]]  # check this structure!!!\n",
    "        s_list += list(file['s'][:])\n",
    "        bx_list += list(file['bx_smooth'][:])\n",
    "        by_list += list(file['by'][:])\n",
    "        bz_list += list(file['bz_smooth'][:])\n",
    "        jy_list += list(file['jy'][:])\n",
    "        vz_list += list(file['vz'][:]) \n",
    "        x0_list += list(file['x0'][:])\n",
    "        x1_list += list(file['x1'][:])\n",
    "        topo_list_tmp = list(file['topo'][:])\n",
    "        for i in range(len(topo_list_tmp)):  # I tried to vectorize this but I didn't get it to work\n",
    "            topo_list_tmp[i] = topo_list_tmp[i] % 2  # cat 0,2 are not plasmoids, cat 1,3 are\n",
    "            topo_list_tmp[i] = keras.utils.to_categorical(topo_list_tmp[i], num_classes=2)\n",
    "        topo_list += topo_list_tmp\n",
    "\n",
    "        if idx == 70:  # trying for 70-30 train test split\n",
    "            train_idx = len(bx_list)\n",
    "print(len(bx_list))\n",
    "# do train test split\n",
    "idx_train_list = idx_list[:train_idx]  # to keep track of which file what sample came from\n",
    "s_train_list = s_list[:train_idx] \n",
    "bx_train_list = bx_list[:train_idx] \n",
    "by_train_list = by_list[:train_idx] \n",
    "bz_train_list = bz_list[:train_idx] \n",
    "jy_train_list = jy_list[:train_idx] \n",
    "vz_train_list = vz_list[:train_idx] \n",
    "x0_train_list = x0_list[:train_idx] \n",
    "x1_train_list = x1_list[:train_idx] \n",
    "topo_train_list = topo_list[:train_idx] \n",
    "\n",
    "idx_test_list = idx_list[train_idx:] \n",
    "s_test_list = s_list[train_idx:] \n",
    "bx_test_list = bx_list[train_idx:] \n",
    "by_test_list = by_list[train_idx:] \n",
    "bz_test_list = bz_list[train_idx:] \n",
    "jy_test_list = jy_list[train_idx:] \n",
    "vz_test_list = vz_list[train_idx:] \n",
    "x0_test_list = x0_list[train_idx:] \n",
    "x1_test_list = x1_list[train_idx:] \n",
    "topo_test_list = topo_list[train_idx:] \n",
    "\n",
    "# BUT WAIT THERE'S MORE! Include the slices from plain ol current sheets. Split 50-50 between train and test\n",
    "# lots of magic numbers here but we don't have time to make the code nice rn\n",
    "noplasmoids_dir = '/tigress/kendrab/06022023/'\n",
    "noplasmoids_paths = []\n",
    "for j in range(5,55,5):\n",
    "        noplasmoids_paths.append(noplasmoids_dir+f\"100samples_idx{j}_bxbybzjyvz.hdf5\")\n",
    "        \n",
    "for k in range(5):\n",
    "    # training part\n",
    "    with h5py.File(noplasmoids_paths[k], 'r') as file:\n",
    "        idx_train_list += [np.array([idx for i in bx]) for bx in file['bx_smooth'][:]]  # check this structure!!!\n",
    "        s_train_list += list(file['s'][:])\n",
    "        bx_train_list += list(file['bx_smooth'][:])\n",
    "        by_train_list += list(file['by'][:])\n",
    "        bz_train_list += list(file['bz_smooth'][:])\n",
    "        jy_train_list += list(file['jy'][:])\n",
    "        vz_train_list += list(file['vz'][:]) \n",
    "        x0_train_list += list(file['x0'][:])\n",
    "        x1_train_list += list(file['x1'][:])\n",
    "        topo_list_tmp = list(file['topo'][:])\n",
    "        for i in range(len(topo_list_tmp)):  # I tried to vectorize this but I didn't get it to work\n",
    "            topo_list_tmp[i] = topo_list_tmp[i] % 2  # cat 0,2 are not plasmoids, cat 1,3 are\n",
    "            topo_list_tmp[i] = keras.utils.to_categorical(topo_list_tmp[i], num_classes=2)\n",
    "        topo_train_list += topo_list_tmp    \n",
    "        \n",
    "    # testing part\n",
    "    with h5py.File(noplasmoids_paths[k+5], 'r') as file:\n",
    "        idx_test_list += [np.array([idx for i in bx]) for bx in file['bx_smooth'][:]]  # check this structure!!!\n",
    "        s_test_list += list(file['s'][:])\n",
    "        bx_test_list += list(file['bx_smooth'][:])\n",
    "        by_test_list += list(file['by'][:])\n",
    "        bz_test_list += list(file['bz_smooth'][:])\n",
    "        jy_test_list += list(file['jy'][:])\n",
    "        vz_test_list += list(file['vz'][:]) \n",
    "        x0_test_list += list(file['x0'][:])\n",
    "        x1_test_list += list(file['x1'][:])\n",
    "        topo_list_tmp = list(file['topo'][:])\n",
    "        for i in range(len(topo_list_tmp)):  # I tried to vectorize this but I didn't get it to work\n",
    "            topo_list_tmp[i] = topo_list_tmp[i] % 2  # cat 0,2 are not plasmoids, cat 1,3 are\n",
    "            topo_list_tmp[i] = keras.utils.to_categorical(topo_list_tmp[i], num_classes=2)\n",
    "        topo_test_list += topo_list_tmp        "
   ]
  },
  {
   "cell_type": "markdown",
   "id": "ceramic-modem",
   "metadata": {},
   "source": [
    "### Preprocess data"
   ]
  },
  {
   "cell_type": "code",
   "execution_count": 4,
   "id": "sharp-hygiene",
   "metadata": {},
   "outputs": [
    {
     "name": "stdout",
     "output_type": "stream",
     "text": [
      "Total batch: 406293\n",
      "Number of null samples: 362695\n",
      "Number of non-null samples: 43598\n",
      "With thinning factor 0.8 will remove 290156 null samples\n"
     ]
    }
   ],
   "source": [
    "# chunk into sliding windows\n",
    "# NOTE TOPO HAS DIFFERENT SEGMENT LENGTHS THAN THE INPUTS (stride vs. 2*padding+stride)\n",
    "idx_train = batch_unpadded_subsects(idx_train_list, padding_length, stride)\n",
    "s_train = batch_subsects(s_train_list, input_length, stride).reshape(-1, input_length, 1)\n",
    "bx_train = batch_subsects(bx_train_list, input_length, stride).reshape(-1, input_length, 1)\n",
    "by_train = batch_subsects(by_train_list, input_length, stride).reshape(-1, input_length, 1)\n",
    "bz_train = batch_subsects(bz_train_list, input_length, stride).reshape(-1, input_length, 1)\n",
    "jy_train = batch_subsects(jy_train_list, input_length, stride).reshape(-1, input_length, 1)\n",
    "vz_train = batch_subsects(vz_train_list, input_length, stride).reshape(-1, input_length, 1)\n",
    "x0_train = batch_unpadded_subsects(x0_train_list, padding_length, stride)\n",
    "x1_train = batch_unpadded_subsects(x1_train_list, padding_length, stride)\n",
    "topo_train = batch_unpadded_subsects(topo_train_list, padding_length, stride)\n",
    "\n",
    "idx_test = batch_unpadded_subsects(idx_test_list, padding_length, stride)\n",
    "s_test = batch_subsects(s_test_list, input_length, stride).reshape(-1, input_length, 1)\n",
    "bx_test = batch_subsects(bx_test_list, input_length, stride).reshape(-1, input_length, 1)\n",
    "by_test = batch_subsects(by_test_list, input_length, stride).reshape(-1, input_length, 1)\n",
    "bz_test = batch_subsects(bz_test_list, input_length, stride).reshape(-1, input_length, 1)\n",
    "jy_test = batch_subsects(jy_test_list, input_length, stride).reshape(-1, input_length, 1)\n",
    "vz_test = batch_subsects(vz_test_list, input_length, stride).reshape(-1, input_length, 1)\n",
    "x0_test = batch_unpadded_subsects(x0_test_list, padding_length, stride)\n",
    "x1_test = batch_unpadded_subsects(x1_test_list, padding_length, stride)\n",
    "topo_test = batch_unpadded_subsects(topo_test_list, padding_length, stride)\n",
    "\n",
    "\n",
    "idx_train, s_train, bx_train, by_train, bz_train, jy_train, vz_train, x0_train, x1_train, topo_train = \\\n",
    "    shuffle(idx_train, s_train, bx_train, by_train, bz_train, jy_train, vz_train, x0_train, x1_train, topo_train)\n",
    "\n",
    "idx_test, s_test, bx_test, by_test, bz_test, jy_test, vz_test, x0_test, x1_test, topo_test = \\\n",
    "    shuffle(idx_test, s_test, bx_test, by_test, bz_test, jy_test, vz_test, x0_test, x1_test, topo_test)\n",
    "\n",
    "# (idx_train, idx_test, s_train, s_test, bx_train, bx_test, by_train, by_test, bz_train, bz_test, jy_train, jy_test, vz_train, vz_test, \n",
    "#      x0_train, x0_test, x1_train, x1_test, topo_train, topo_test) = \\\n",
    "#                        train_test_split(idx_segs, s_segs, bx_segs, by_segs, bz_segs, jy_segs, vz_segs,\n",
    "#                                         x0_segs, x1_segs, topo_segs)\n",
    "# try to do some rebalancing in the training set\n",
    "# model is struggling on plasmoids, which are underrepresented\n",
    "[idx_train, s_train, bx_train, by_train, bz_train, jy_train, vz_train, x0_train, x1_train], topo_train = \\\n",
    "    rebalance_ctrl_group([idx_train, s_train, bx_train, by_train, bz_train, jy_train, vz_train, x0_train, x1_train],\n",
    "                         topo_train, null_label=[1,0], thinning_factor = thinning_factor[0])\n"
   ]
  },
  {
   "cell_type": "markdown",
   "id": "controversial-scenario",
   "metadata": {},
   "source": [
    "### Compile and train model"
   ]
  },
  {
   "cell_type": "code",
   "execution_count": 5,
   "id": "curious-marketplace",
   "metadata": {},
   "outputs": [],
   "source": [
    "opt = tf.keras.optimizers.Adam(learning_rate=learning_rate)\n",
    "# loss_fn = tfa.losses.SigmoidFocalCrossEntropy(gamma=10)  # gamma must be an integer apparently (in int form)\n",
    "loss_fn = keras.losses.CategoricalCrossentropy()\n",
    "loss = gen_loss_per_pt(loss_fn=loss_fn)\n",
    "metric = gen_metric_per_cat()\n",
    "metrics = [\"acc\"]  # loss_fn keyword left default\n",
    "# for i in range(4):\n",
    "#     metrics.append(gen_metric_per_cat(mask_layer=mask_layer, cat_idx=i))\n",
    "\n",
    "\n",
    "model.compile(optimizer=opt, loss=loss, metrics=metrics,\n",
    "             run_eagerly = True)  # run eagerly to get .numpy() method"
   ]
  },
  {
   "cell_type": "code",
   "execution_count": 6,
   "id": "southern-edmonton",
   "metadata": {},
   "outputs": [
    {
     "name": "stdout",
     "output_type": "stream",
     "text": [
      "Epoch 1/5\n",
      "3630/3630 [==============================] - 172s 47ms/step - loss: 0.4166 - acc: 0.7813\n",
      "Epoch 2/5\n",
      "3630/3630 [==============================] - 170s 47ms/step - loss: 0.3810 - acc: 0.8323\n",
      "Epoch 3/5\n",
      "3630/3630 [==============================] - 159s 44ms/step - loss: 0.3674 - acc: 0.8437\n",
      "Epoch 4/5\n",
      "3630/3630 [==============================] - 160s 44ms/step - loss: 0.3642 - acc: 0.8450\n",
      "Epoch 5/5\n",
      "3630/3630 [==============================] - 164s 45ms/step - loss: 0.3630 - acc: 0.8453\n"
     ]
    },
    {
     "data": {
      "text/plain": [
       "<tensorflow.python.keras.callbacks.History at 0x2ad8efe2e5d0>"
      ]
     },
     "execution_count": 6,
     "metadata": {},
     "output_type": "execute_result"
    }
   ],
   "source": [
    "model.fit(x={'bx': bx_train, 'by': by_train, 'bz': bz_train, 'jy': jy_train, 'vz': vz_train},\n",
    "          y = topo_train, epochs=epochs)"
   ]
  },
  {
   "cell_type": "markdown",
   "id": "standard-wilderness",
   "metadata": {},
   "source": [
    "### Make output directories if they do not exist and set up output file names"
   ]
  },
  {
   "cell_type": "code",
   "execution_count": 7,
   "id": "dependent-tsunami",
   "metadata": {},
   "outputs": [],
   "source": [
    "log_file, cf_file, samplefile_start = generic_outputs_structure(\"/tigress/kendrab/analysis-notebooks/model_outs/\",\n",
    "                                                                model_name, date_str, time_str)"
   ]
  },
  {
   "cell_type": "markdown",
   "id": "romance-rebate",
   "metadata": {},
   "source": [
    "### Observe the results, dump information to file"
   ]
  },
  {
   "cell_type": "code",
   "execution_count": 8,
   "id": "permanent-classification",
   "metadata": {},
   "outputs": [
    {
     "name": "stdout",
     "output_type": "stream",
     "text": [
      "Training performance\n",
      "cat_breakdown\t\t[748348, 413022]\n",
      "[1.0, 1.0]\n",
      "[1.0, 1.0]\n",
      "Category 0 had recall 0.8930243849754333\n",
      "Category 1 had recall 0.7645403742790222\n",
      "Testing performance\n",
      "cat_breakdown\t\t[2106305, 252175]\n",
      "[1.0, 1.0]\n",
      "[1.0, 1.0]\n",
      "Category 0 had recall 0.913077175617218\n",
      "Category 1 had recall 0.7661465406417847\n"
     ]
    }
   ],
   "source": [
    "with open(log_file, 'w') as log:\n",
    "    log.write(f\"Model {model_name} trained on {start_str}\\n\")\n",
    "    log.write(f\"loss function \\t\\t{loss.__name__}\\n\")\n",
    "    log.write(\"Hyperparameters:\\n\")\n",
    "    for key in hyperparams.keys():\n",
    "        log.write(f\"{key}\\t\\t{hyperparams[key]}\\n\")\n",
    "        \n",
    "    log.write(\"Training performance\\n\")        \n",
    "    print(\"Training performance\")\n",
    "    train_topo_pred = model(inputs={'bx': bx_train, 'by': by_train, 'bz': bz_train, 'jy': jy_train, 'vz': vz_train}, training=False)\n",
    "    train_1d = np.argmax(topo_train.reshape(-1,2), axis=1) # for confusion matrix\n",
    "    train_1d_pred = np.argmax(train_topo_pred.numpy().reshape(-1,2), axis=1)  \n",
    "    num_per_cat = [np.sum(topo_train[...,i] == 1) for i in range(2)]\n",
    "    log.write(f\"cat_breakdown\\t\\t{num_per_cat}\\n\")\n",
    "    print(f\"cat_breakdown\\t\\t{num_per_cat}\")\n",
    "    print([np.max(topo_train[:,:,i]) for i in range(2)])\n",
    "    print([np.max(train_topo_pred[:,:,i]) for i in range(2)])\n",
    "    for i in range(2):\n",
    "        acc = gen_metric_per_cat(cat_idx=i)(tf.convert_to_tensor(topo_train), train_topo_pred)\n",
    "        log.write(f\"cat{i}recall\\t\\t{acc}\\n\")\n",
    "        print(f\"Category {i} had recall {acc}\")\n",
    "\n",
    "    log.write(\"Testing performance\\n\")\n",
    "    print(\"Testing performance\")\n",
    "    test_topo_pred = model(inputs={'bx': bx_test, 'by': by_test, 'bz': bz_test, 'jy': jy_test, 'vz': vz_test}, training=False)\n",
    "    test_1d = np.argmax(topo_test.reshape(-1,2), axis=1) # for confusion matrix\n",
    "    test_1d_pred = np.argmax(test_topo_pred.numpy().reshape(-1,2), axis=1)  \n",
    "    num_per_cat = [np.sum(topo_test[...,i] == 1) for i in range(2)]\n",
    "    log.write(f\"cat_breakdown\\t\\t{num_per_cat}\\n\")\n",
    "    print(f\"cat_breakdown\\t\\t{num_per_cat}\")\n",
    "    print([np.max(topo_test[:,:,i]) for i in range(2)])\n",
    "    print([np.max(test_topo_pred[:,:,i]) for i in range(2)])\n",
    "    for i in range(2):\n",
    "        acc = gen_metric_per_cat(cat_idx=i)(tf.convert_to_tensor(topo_test), test_topo_pred)\n",
    "        log.write(f\"cat{i}recall\\t\\t{acc}\\n\")\n",
    "        print(f\"Category {i} had recall {acc}\")    \n",
    "    end = dt.datetime.now(dt.timezone.utc)    \n",
    "    log.write(f\"runtime_seconds\\t\\t{(end-start).total_seconds()}\")"
   ]
  },
  {
   "cell_type": "markdown",
   "id": "dried-institution",
   "metadata": {},
   "source": [
    "### Save confusion matrices"
   ]
  },
  {
   "cell_type": "code",
   "execution_count": 9,
   "id": "removable-bangladesh",
   "metadata": {},
   "outputs": [],
   "source": [
    "plt_traintest_cf_matrices(train_1d, train_1d_pred, test_1d, test_1d_pred, cf_file)"
   ]
  },
  {
   "cell_type": "markdown",
   "id": "developing-amendment",
   "metadata": {},
   "source": [
    "### Save model"
   ]
  },
  {
   "cell_type": "code",
   "execution_count": 10,
   "id": "explicit-synthesis",
   "metadata": {},
   "outputs": [],
   "source": [
    "model.save(samplefile_start+\"_modelfile.h5\")"
   ]
  },
  {
   "cell_type": "markdown",
   "id": "nervous-liberia",
   "metadata": {},
   "source": [
    "### Plot summaries of a selection of segments"
   ]
  },
  {
   "cell_type": "code",
   "execution_count": 11,
   "id": "pointed-champagne",
   "metadata": {},
   "outputs": [],
   "source": [
    "plot_reps([bx_train, by_train, bz_train, jy_train, vz_train], ['bx','by','bz','jy','vz'], s_train, topo_train, train_topo_pred, \n",
    "          samplefile_start, inputs_padding=padding_length, true_coords=np.stack([x0_train, x1_train], axis=-1), exs_per_cat=5 )"
   ]
  },
  {
   "cell_type": "markdown",
   "id": "abstract-jamaica",
   "metadata": {},
   "source": [
    "### Put temporary stuff here, delete later"
   ]
  },
  {
   "cell_type": "code",
   "execution_count": 33,
   "id": "functioning-friendly",
   "metadata": {},
   "outputs": [],
   "source": [
    "# fig, ax = plt.subplots(1,2)\n",
    "# ax[0].set(title=\"Training Confusion\")\n",
    "# ax[1].set(title=\"Testing Confusion\")\n",
    "# cf_train_p = ConfusionMatrixDisplay(confusion_matrix(train_1d, train_1d_pred))\n",
    "# cf_test_p = ConfusionMatrixDisplay(confusion_matrix(test_1d, test_1d_pred))\n",
    "# cf_train_p.plot(ax=ax[0], colorbar=None, values_format='d', cmap='Greys')\n",
    "# cf_test_p.plot(ax=ax[1], colorbar=None, values_format='d', cmap='Greys')\n",
    "\n",
    "# fig.tight_layout()\n",
    "# fig.savefig(\"/tigress/kendrab/analysis-notebooks/model_outs/\" + date_str + \"/deltacfmatrix\"+time_str+\"_nonnormal.svg\")\n",
    "# plt.close(fig='all')"
   ]
  },
  {
   "cell_type": "code",
   "execution_count": 2,
   "id": "pregnant-record",
   "metadata": {},
   "outputs": [
    {
     "name": "stdout",
     "output_type": "stream",
     "text": [
      "1161370\n",
      "2358480\n"
     ]
    },
    {
     "data": {
      "text/plain": [
       "8.352552790720729"
      ]
     },
     "execution_count": 2,
     "metadata": {},
     "output_type": "execute_result"
    }
   ],
   "source": [
    "print(748348+413022)\n",
    "print(2106305+252175)\n",
    "2106305/252175"
   ]
  },
  {
   "cell_type": "code",
   "execution_count": null,
   "id": "dress-corporation",
   "metadata": {},
   "outputs": [],
   "source": []
  }
 ],
 "metadata": {
  "kernelspec": {
   "display_name": "Python 3 (ipykernel)",
   "language": "python",
   "name": "python3"
  },
  "language_info": {
   "codemirror_mode": {
    "name": "ipython",
    "version": 3
   },
   "file_extension": ".py",
   "mimetype": "text/x-python",
   "name": "python",
   "nbconvert_exporter": "python",
   "pygments_lexer": "ipython3",
   "version": "3.10.9"
  }
 },
 "nbformat": 4,
 "nbformat_minor": 5
}
