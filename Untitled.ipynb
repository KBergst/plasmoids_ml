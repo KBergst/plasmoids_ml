{
 "cells": [
  {
   "cell_type": "code",
   "execution_count": 1,
   "id": "textile-benefit",
   "metadata": {},
   "outputs": [],
   "source": [
    "import pyvpic\n",
    "file = pyvpic.open(\"01292021/data.h5\")"
   ]
  },
  {
   "cell_type": "code",
   "execution_count": 4,
   "id": "greenhouse-gazette",
   "metadata": {},
   "outputs": [
    {
     "data": {
      "text/plain": [
       "['electron/n',\n",
       " 'electron/pxx',\n",
       " 'electron/pxy',\n",
       " 'electron/pyy',\n",
       " 'electron/pyz',\n",
       " 'electron/pzx',\n",
       " 'electron/pzz',\n",
       " 'electron/vx',\n",
       " 'electron/vy',\n",
       " 'electron/vz',\n",
       " 'field/bx',\n",
       " 'field/by',\n",
       " 'field/bz',\n",
       " 'field/ex',\n",
       " 'field/ey',\n",
       " 'field/ez',\n",
       " 'field/jx',\n",
       " 'field/jy',\n",
       " 'field/jz',\n",
       " 'field/rhob',\n",
       " 'field/rhof',\n",
       " 'ion/n',\n",
       " 'ion/pxx',\n",
       " 'ion/pxy',\n",
       " 'ion/pyy',\n",
       " 'ion/pyz',\n",
       " 'ion/pzx',\n",
       " 'ion/pzz',\n",
       " 'ion/vx',\n",
       " 'ion/vy',\n",
       " 'ion/vz']"
      ]
     },
     "execution_count": 4,
     "metadata": {},
     "output_type": "execute_result"
    }
   ],
   "source": [
    "file.datasets"
   ]
  },
  {
   "cell_type": "code",
   "execution_count": null,
   "id": "banner-pulse",
   "metadata": {},
   "outputs": [],
   "source": [
    "%matplotlib widget\n",
    "\n",
    "import matplotlib.pyplot as plt\n",
    "import numpy as np"
   ]
  },
  {
   "cell_type": "code",
   "execution_count": null,
   "id": "center-infrared",
   "metadata": {},
   "outputs": [],
   "source": [
    "fig = plt.figure()\n",
    "plt.plot(np.sin(np.linspace(0,20,100)))"
   ]
  },
  {
   "cell_type": "code",
   "execution_count": null,
   "id": "devoted-karma",
   "metadata": {},
   "outputs": [],
   "source": []
  }
 ],
 "metadata": {
  "kernelspec": {
   "display_name": "Python 3",
   "language": "python",
   "name": "python3"
  },
  "language_info": {
   "codemirror_mode": {
    "name": "ipython",
    "version": 3
   },
   "file_extension": ".py",
   "mimetype": "text/x-python",
   "name": "python",
   "nbconvert_exporter": "python",
   "pygments_lexer": "ipython3",
   "version": "3.7.9"
  }
 },
 "nbformat": 4,
 "nbformat_minor": 5
}
