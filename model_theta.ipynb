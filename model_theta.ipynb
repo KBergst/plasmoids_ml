{
 "cells": [
  {
   "cell_type": "markdown",
   "id": "proved-radio",
   "metadata": {},
   "source": [
    "## More complicated model featuring:\n",
    "\n",
    "- fixed length timeseries informed by d_per_de ~ 4\n",
    "\n",
    "- classification on a small inner subset of each timeseries segment\n",
    " \n",
    "- Optuna integration\n",
    "\n",
    "- All B, j, v components (+more? maybe)\n",
    "\n",
    "- Distinct CNN-based feature extractor + classifier components to prepare for adversarial domain adaptation to space data.\n",
    "\n",
    "- A postprocessing step in the pipeline (Extremely randomized trees that is fed the features from the feature extractor and the probability outputted by the CNN classifier). Needs to be multi-output if classification subset is greater than one datapoint. So maybe we won't do that."
   ]
  },
  {
   "cell_type": "code",
   "execution_count": null,
   "id": "stunning-namibia",
   "metadata": {},
   "outputs": [],
   "source": []
  }
 ],
 "metadata": {
  "kernelspec": {
   "display_name": "Python 3",
   "language": "python",
   "name": "python3"
  },
  "language_info": {
   "codemirror_mode": {
    "name": "ipython",
    "version": 3
   },
   "file_extension": ".py",
   "mimetype": "text/x-python",
   "name": "python",
   "nbconvert_exporter": "python",
   "pygments_lexer": "ipython3",
   "version": "3.7.9"
  }
 },
 "nbformat": 4,
 "nbformat_minor": 5
}
