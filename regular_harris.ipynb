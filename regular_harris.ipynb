{
 "cells": [
  {
   "cell_type": "markdown",
   "id": "8cf09325-895c-4fe2-b9d8-ee9c968426d6",
   "metadata": {},
   "source": [
    "### Just making a harris sheet h5 file"
   ]
  },
  {
   "cell_type": "code",
   "execution_count": 1,
   "id": "b552bbd5-74e7-418b-a0dc-4e75a8763c29",
   "metadata": {},
   "outputs": [],
   "source": [
    "import h5py"
   ]
  },
  {
   "cell_type": "code",
   "execution_count": null,
   "id": "a5701e78-7114-4d23-b8e2-b60f2676e7e4",
   "metadata": {},
   "outputs": [],
   "source": []
  }
 ],
 "metadata": {
  "kernelspec": {
   "display_name": "Python 3 (ipykernel)",
   "language": "python",
   "name": "python3"
  },
  "language_info": {
   "codemirror_mode": {
    "name": "ipython",
    "version": 3
   },
   "file_extension": ".py",
   "mimetype": "text/x-python",
   "name": "python",
   "nbconvert_exporter": "python",
   "pygments_lexer": "ipython3",
   "version": "3.10.6"
  }
 },
 "nbformat": 4,
 "nbformat_minor": 5
}
